{
 "cells": [
  {
   "cell_type": "markdown",
   "metadata": {},
   "source": [
    "# 연습문제"
   ]
  },
  {
   "cell_type": "code",
   "execution_count": 1,
   "metadata": {},
   "outputs": [],
   "source": [
    "import numpy as np"
   ]
  },
  {
   "cell_type": "markdown",
   "metadata": {},
   "source": [
    "n의 제곱수로 2 dimentional array를 생성하는 ndarray.\n",
    "\n",
    "Args\n",
    "\n",
    "- n: 생성하고자 하는 ndarray의 row와 column의 개수\n",
    "- dtype: 생성하려는 ndarray의 data type (np.int)\n",
    "\n",
    "Returns\n",
    "\n",
    "row와 column의 길이가 n인 two dimentional ndarray로 X[0,0]은 0으로 순차적으로 X[n-1,n-1]은 n^2-1이 할당됨"
   ]
  },
  {
   "cell_type": "code",
   "execution_count": 2,
   "metadata": {},
   "outputs": [],
   "source": [
    "def n_size_ndarray_creation(n,dtype=np.int):\n",
    "    arr = np.arange(n**2).reshape(n,n)\n",
    "    return arr\n",
    "\n",
    "def n_size_ndarray_creation2(n,dtype=np.int):\n",
    "    return np.array(range(n**2), dtype = dtype).reshape(n,n)"
   ]
  },
  {
   "cell_type": "code",
   "execution_count": 3,
   "metadata": {},
   "outputs": [
    {
     "data": {
      "text/plain": [
       "array([[0, 1, 2],\n",
       "       [3, 4, 5],\n",
       "       [6, 7, 8]])"
      ]
     },
     "execution_count": 3,
     "metadata": {},
     "output_type": "execute_result"
    }
   ],
   "source": [
    "n_size_ndarray_creation(3)"
   ]
  },
  {
   "cell_type": "code",
   "execution_count": 4,
   "metadata": {},
   "outputs": [
    {
     "data": {
      "text/plain": [
       "array([[ 0,  1,  2,  3],\n",
       "       [ 4,  5,  6,  7],\n",
       "       [ 8,  9, 10, 11],\n",
       "       [12, 13, 14, 15]])"
      ]
     },
     "execution_count": 4,
     "metadata": {},
     "output_type": "execute_result"
    }
   ],
   "source": [
    "n_size_ndarray_creation2(4)"
   ]
  },
  {
   "cell_type": "markdown",
   "metadata": {},
   "source": [
    "shape이 지정된 크기의 ndarray를 생성,\n",
    "\n",
    "이때 행렬의 element는 type에 따라 0, 1 또는 empty로 생성됨.\n",
    "\n",
    "Args\n",
    "- shape: 생성할려는 ndarray의 shape\n",
    "- type: 생성되는 element들의 값을 지정함0은 0, 1은 1, 99는 empty 타입으로 생성됨\n",
    "- dtype: 생성하려는 ndarray의 data type (np.int)\n",
    "\n",
    "Returns\n",
    "\n",
    "shape의 크기로 생성된 ndarray로 type에 따라 element의 내용이 변경됨\n",
    "\n",
    "\n",
    "Examples\n",
    "\n",
    "**zero_or_one_or_empty_ndarray(shape=(2,2), type=1)**\n",
    "\n",
    "array(\\[[ 1,  1],[ 1,  1]\\])\n",
    "\n",
    "**zero_or_one_or_empty_ndarray(shape=(3,3), type=99)**\n",
    "\n",
    "임의의수 생성\n",
    "\n",
    "array(\\[[1773984320,        487, 1774114944],\n",
    "        [       487, 1947927088,          0],\n",
    "        [1947927088,          0, 1701605485]\\])"
   ]
  },
  {
   "cell_type": "code",
   "execution_count": null,
   "metadata": {},
   "outputs": [],
   "source": [
    "def zero_or_one_or_empty_ndarray(shape,type,dtype=np.int):\n",
    "    if type == 0:\n",
    "        return np.zeros(shape = shape, dtype = dtype)\n",
    "    \n",
    "    if type == 1:\n",
    "        return np.ones(shape = shape, dtype = dtype)\n",
    "    \n",
    "    if type == 99:\n",
    "        return np.empty(shape = shape, dtype = dtype)"
   ]
  },
  {
   "cell_type": "code",
   "execution_count": null,
   "metadata": {},
   "outputs": [],
   "source": [
    "zero_or_one_or_empty_ndarray((2,3),1)"
   ]
  },
  {
   "cell_type": "markdown",
   "metadata": {},
   "source": [
    "def change_shape_of_ndarray(X, n_row):\n",
    "\n",
    "    return X\n",
    "    \n",
    "목적\n",
    "- 입력된 ndarray X row의 개수를 n_row로 지정한 matrix를 반환함.\n",
    "- 이때 입력하는 X의 size는 2의 거듭제곱수로 전제함.\n",
    "- 만약 n_row = 1일 때는 matrix가 아닌 vector로 반환함.\n",
    "\n",
    "Args\n",
    "- X: 입력하는 ndarray\n",
    "- n_row: 생성할려는 matrix의 row의 개수\n",
    "\n",
    "Returns\n",
    "\n",
    "- row의 개수가 n_row인 Matrix 또는 Vector\n",
    "- n_row가 1이면 Vector 값으로 반환함 ~~=>무시해버렸음..~~\n",
    "\n",
    "\n",
    "Examples\n",
    "\n",
    "import numpy as np\n",
    "\n",
    "import numpy_lab as testcode\n",
    "\n",
    "X = np.ones((32,32), dtype=np.int)\n",
    "\n",
    "testcode.change_shape_of_ndarray(X, 1)\n",
    "\n",
    "array([1, 1, 1, ..., 1, 1, 1])\n",
    "\n",
    "testcode.change_shape_of_ndarray(X, 512)\n",
    "\n",
    "array([[1, 1],\n",
    "       [1, 1],\n",
    "       [1, 1],\n",
    "       ...,\n",
    "       [1, 1],\n",
    "       [1, 1],\n",
    "       [1, 1]])"
   ]
  },
  {
   "cell_type": "code",
   "execution_count": null,
   "metadata": {},
   "outputs": [],
   "source": [
    "def change_shape_of_ndarray(X, n_row):\n",
    "    X = X.reshape(n_row,int(np.size(X)/n_row))\n",
    "    return X"
   ]
  },
  {
   "cell_type": "code",
   "execution_count": null,
   "metadata": {},
   "outputs": [],
   "source": [
    "X = np.arange(16).reshape(2,8)\n",
    "X"
   ]
  },
  {
   "cell_type": "code",
   "execution_count": null,
   "metadata": {},
   "outputs": [],
   "source": [
    "change_shape_of_ndarray(X, 1)"
   ]
  },
  {
   "cell_type": "code",
   "execution_count": null,
   "metadata": {},
   "outputs": [],
   "source": [
    "change_shape_of_ndarray(X,4)"
   ]
  },
  {
   "cell_type": "code",
   "execution_count": null,
   "metadata": {},
   "outputs": [],
   "source": [
    "def change_shape_of_ndarray2(X, n_row):\n",
    "\n",
    "    return X.flatten() if n_row == 1 else X.reshape(n_row, -1)"
   ]
  },
  {
   "cell_type": "code",
   "execution_count": null,
   "metadata": {},
   "outputs": [],
   "source": [
    "X = np.arange(32).reshape(2,16)\n",
    "X"
   ]
  },
  {
   "cell_type": "code",
   "execution_count": null,
   "metadata": {},
   "outputs": [],
   "source": [
    "change_shape_of_ndarray2(X,4)"
   ]
  },
  {
   "cell_type": "markdown",
   "metadata": {},
   "source": [
    "입력된 vector type의 ndarray X에서 target_value와 가장 차이가 작게나는 element를 찾아 리턴함\n",
    "\n",
    "이때 X를 list로 변경하여 처리하는 것은 실패로 간주함.\n",
    "\n",
    "Args\n",
    "- X: 입력하는 vector type의 ndarray\n",
    "- target_value : 가장 유사한 값의 기준값이 되는 값\n",
    "\n",
    "Returns\n",
    "- target_value와 가장 유사한 값\n",
    "\n",
    "Examples\n",
    "\n",
    "import numpy as np\n",
    "\n",
    "import numpy_lab as testcode\n",
    "\n",
    "X = np.random.uniform(0, 1, 100)\n",
    "\n",
    "target_value = 0.3\n",
    "\n",
    "testcode.find_nearest_value(X, target_value)\n",
    "\n",
    "    0.29260674329282488 #출력되는 값은 random 하게 바뀜"
   ]
  },
  {
   "cell_type": "code",
   "execution_count": null,
   "metadata": {},
   "outputs": [],
   "source": [
    "def find_nearest_value(X, target_value):\n",
    "    return X[np.argmin(np.abs(X-target_value))]"
   ]
  },
  {
   "cell_type": "code",
   "execution_count": null,
   "metadata": {},
   "outputs": [],
   "source": [
    "X = np.random.uniform(0, 1, 5)\n",
    "X"
   ]
  },
  {
   "cell_type": "code",
   "execution_count": null,
   "metadata": {},
   "outputs": [],
   "source": [
    "find_nearest_value(X, 0.4)"
   ]
  },
  {
   "cell_type": "code",
   "execution_count": null,
   "metadata": {},
   "outputs": [],
   "source": []
  }
 ],
 "metadata": {
  "kernelspec": {
   "display_name": "Python 3.6",
   "language": "python",
   "name": "python36"
  },
  "language_info": {
   "codemirror_mode": {
    "name": "ipython",
    "version": 3
   },
   "file_extension": ".py",
   "mimetype": "text/x-python",
   "name": "python",
   "nbconvert_exporter": "python",
   "pygments_lexer": "ipython3",
   "version": "3.6.3"
  }
 },
 "nbformat": 4,
 "nbformat_minor": 2
}
