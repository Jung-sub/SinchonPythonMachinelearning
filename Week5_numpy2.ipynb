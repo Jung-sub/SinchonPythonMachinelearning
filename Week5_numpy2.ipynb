{
 "cells": [
  {
   "cell_type": "markdown",
   "metadata": {},
   "source": [
    "## 정렬 Sorting\n",
    "\n",
    "따로 복사되는 게 아니라 해당 배열을 수정함\n",
    "\n",
    "**arr.sort()** 그냥 정렬\n",
    "\n",
    "**arr.sort(1)** (2차원 상에서) 행마다 정렬\n",
    "\n",
    "**arr.sort(0)** (2차원 상에서) 열마다 정렬\n",
    "\n",
    "인자로 1, 0과 같은 것을 줄 수 있는 것은 axis(축)과 관련된 내용\n",
    "\n",
    "정렬되는 것을 기준으로 axis값을 인자로 줌\n"
   ]
  },
  {
   "cell_type": "code",
   "execution_count": 34,
   "metadata": {},
   "outputs": [
    {
     "name": "stdout",
     "output_type": "stream",
     "text": [
      "[[10  4  5]\n",
      " [ 2  6  1]\n",
      " [ 3  5  6]]\n"
     ]
    },
    {
     "data": {
      "text/plain": [
       "array([[ 4,  5, 10],\n",
       "       [ 1,  2,  6],\n",
       "       [ 3,  5,  6]])"
      ]
     },
     "execution_count": 34,
     "metadata": {},
     "output_type": "execute_result"
    }
   ],
   "source": [
    "import numpy as np\n",
    "arr = np.array([[10,4,5],[2,6,1],[3,5,6]])\n",
    "print(arr)\n",
    "arr.sort() #행마다 정렬\n",
    "\n",
    "arr"
   ]
  },
  {
   "cell_type": "code",
   "execution_count": 35,
   "metadata": {},
   "outputs": [
    {
     "name": "stdout",
     "output_type": "stream",
     "text": [
      "[[10  4  5]\n",
      " [ 2  6  1]\n",
      " [ 3  5  6]]\n"
     ]
    },
    {
     "data": {
      "text/plain": [
       "array([[ 4,  5, 10],\n",
       "       [ 1,  2,  6],\n",
       "       [ 3,  5,  6]])"
      ]
     },
     "execution_count": 35,
     "metadata": {},
     "output_type": "execute_result"
    }
   ],
   "source": [
    "arr = np.array([[10,4,5],[2,6,1],[3,5,6]])\n",
    "print(arr)\n",
    "arr.sort(1) #기준: 행, 정렬되는 것: 열\n",
    "#한 행에서 열마다 정렬\n",
    "\n",
    "arr"
   ]
  },
  {
   "cell_type": "code",
   "execution_count": 36,
   "metadata": {},
   "outputs": [
    {
     "name": "stdout",
     "output_type": "stream",
     "text": [
      "[[10  4  5]\n",
      " [ 2  6  1]\n",
      " [ 3  5  6]]\n"
     ]
    },
    {
     "data": {
      "text/plain": [
       "array([[ 2,  4,  1],\n",
       "       [ 3,  5,  5],\n",
       "       [10,  6,  6]])"
      ]
     },
     "execution_count": 36,
     "metadata": {},
     "output_type": "execute_result"
    }
   ],
   "source": [
    "arr = np.array([[10,4,5],[2,6,1],[3,5,6]])\n",
    "print(arr)\n",
    "arr.sort(0) #기준: 열, 정렬되는 것: 행\n",
    "#각 열에서 가장 작은 값부터 1행,, 2행,, 열별 정렬\n",
    "\n",
    "arr"
   ]
  },
  {
   "cell_type": "markdown",
   "metadata": {},
   "source": [
    "##### 3차원"
   ]
  },
  {
   "cell_type": "code",
   "execution_count": 37,
   "metadata": {},
   "outputs": [
    {
     "name": "stdout",
     "output_type": "stream",
     "text": [
      "[[[10  4  5]\n",
      "  [ 2  6  1]]\n",
      "\n",
      " [[ 4  3  7]\n",
      "  [ 3  5  6]]]\n"
     ]
    },
    {
     "data": {
      "text/plain": [
       "array([[[ 4,  5, 10],\n",
       "        [ 1,  2,  6]],\n",
       "\n",
       "       [[ 3,  4,  7],\n",
       "        [ 3,  5,  6]]])"
      ]
     },
     "execution_count": 37,
     "metadata": {},
     "output_type": "execute_result"
    }
   ],
   "source": [
    "arr = np.array([[[10,4,5],[2,6,1]],[[4,3,7],[3,5,6]]])\n",
    "print(arr)\n",
    "arr.sort() #행을 기준으로 열 변경\n",
    "arr"
   ]
  },
  {
   "cell_type": "code",
   "execution_count": 38,
   "metadata": {},
   "outputs": [
    {
     "name": "stdout",
     "output_type": "stream",
     "text": [
      "[[[10  4  5]\n",
      "  [ 2  6  1]]\n",
      "\n",
      " [[ 4  3  7]\n",
      "  [ 3  5  6]]]\n"
     ]
    },
    {
     "data": {
      "text/plain": [
       "array([[[ 4,  3,  5],\n",
       "        [ 2,  5,  1]],\n",
       "\n",
       "       [[10,  4,  7],\n",
       "        [ 3,  6,  6]]])"
      ]
     },
     "execution_count": 38,
     "metadata": {},
     "output_type": "execute_result"
    }
   ],
   "source": [
    "arr = np.array([[[10,4,5],[2,6,1]],[[4,3,7],[3,5,6]]])\n",
    "print(arr)\n",
    "\n",
    "arr.sort(0) #기준:행,열    바뀌는것: 면\n",
    "#면끼리 비교해서 같은 위치에 있는 값들 중 작은거부터...\n",
    "\n",
    "arr"
   ]
  },
  {
   "cell_type": "code",
   "execution_count": 39,
   "metadata": {},
   "outputs": [
    {
     "name": "stdout",
     "output_type": "stream",
     "text": [
      "[[[10  4  5]\n",
      "  [ 2  6  1]]\n",
      "\n",
      " [[ 4  3  7]\n",
      "  [ 3  5  6]]]\n"
     ]
    },
    {
     "data": {
      "text/plain": [
       "array([[[ 2,  4,  1],\n",
       "        [10,  6,  5]],\n",
       "\n",
       "       [[ 3,  3,  6],\n",
       "        [ 4,  5,  7]]])"
      ]
     },
     "execution_count": 39,
     "metadata": {},
     "output_type": "execute_result"
    }
   ],
   "source": [
    "arr = np.array([[[10,4,5],[2,6,1]],[[4,3,7],[3,5,6]]])\n",
    "print(arr)\n",
    "arr.sort(1) #기준: 열, 정렬되는 것: 행\n",
    "#한 면의 열마다 행별 정렬\n",
    "arr"
   ]
  },
  {
   "cell_type": "code",
   "execution_count": 40,
   "metadata": {},
   "outputs": [
    {
     "name": "stdout",
     "output_type": "stream",
     "text": [
      "[[[10  4  5]\n",
      "  [ 2  6  1]]\n",
      "\n",
      " [[ 4  3  7]\n",
      "  [ 3  5  6]]]\n"
     ]
    },
    {
     "data": {
      "text/plain": [
       "array([[[ 4,  5, 10],\n",
       "        [ 1,  2,  6]],\n",
       "\n",
       "       [[ 3,  4,  7],\n",
       "        [ 3,  5,  6]]])"
      ]
     },
     "execution_count": 40,
     "metadata": {},
     "output_type": "execute_result"
    }
   ],
   "source": [
    "arr = np.array([[[10,4,5],[2,6,1]],[[4,3,7],[3,5,6]]])\n",
    "print(arr)\n",
    "\n",
    "arr.sort(2) #기준: 행, 정렬되는 것: 열\n",
    "#한 면의 한 행마다 열별 정렬\n",
    "\n",
    "arr"
   ]
  },
  {
   "cell_type": "markdown",
   "metadata": {},
   "source": [
    "##  Unique & Other Set Logic\n",
    "\n",
    "**np.unique(arr)**\n",
    "정렬 & 중복 제거\n",
    "\n",
    "cf) 그냥 파이썬에서는 **sorted(set(arr))** 와 같이 집합으로 묶어서 넣어줘야함"
   ]
  },
  {
   "cell_type": "code",
   "execution_count": 41,
   "metadata": {},
   "outputs": [
    {
     "data": {
      "text/plain": [
       "array([4, 4, 9, 5, 7, 3, 2, 4, 6, 8])"
      ]
     },
     "execution_count": 41,
     "metadata": {},
     "output_type": "execute_result"
    }
   ],
   "source": [
    "from numpy.random import randint\n",
    "arr = randint(1,10,10)\n",
    "arr"
   ]
  },
  {
   "cell_type": "code",
   "execution_count": 42,
   "metadata": {},
   "outputs": [
    {
     "data": {
      "text/plain": [
       "array([2, 3, 4, 5, 6, 7, 8, 9])"
      ]
     },
     "execution_count": 42,
     "metadata": {},
     "output_type": "execute_result"
    }
   ],
   "source": [
    "np.unique(arr)"
   ]
  },
  {
   "cell_type": "markdown",
   "metadata": {},
   "source": [
    "**np.intersect1d(arr1,arr2)**\n",
    "정렬 & 교집합"
   ]
  },
  {
   "cell_type": "code",
   "execution_count": 43,
   "metadata": {},
   "outputs": [
    {
     "name": "stdout",
     "output_type": "stream",
     "text": [
      "[4 8 5 3 2 7 9 3 3 6]\n"
     ]
    },
    {
     "data": {
      "text/plain": [
       "array([2, 3, 4, 5, 6, 7, 8, 9])"
      ]
     },
     "execution_count": 43,
     "metadata": {},
     "output_type": "execute_result"
    }
   ],
   "source": [
    "arr2 = randint(1,10,10)\n",
    "print(arr2)\n",
    "np.intersect1d(arr,arr2)"
   ]
  },
  {
   "cell_type": "markdown",
   "metadata": {},
   "source": [
    "**np.union1d(arr1, arr2)**\n",
    "정렬 & 합집합"
   ]
  },
  {
   "cell_type": "code",
   "execution_count": 45,
   "metadata": {},
   "outputs": [
    {
     "data": {
      "text/plain": [
       "array([2, 3, 4, 5, 6, 7, 8, 9])"
      ]
     },
     "execution_count": 45,
     "metadata": {},
     "output_type": "execute_result"
    }
   ],
   "source": [
    "np.union1d(arr,arr2)"
   ]
  },
  {
   "cell_type": "markdown",
   "metadata": {},
   "source": [
    "**np.in1d(arr1, arr2)**\n",
    "arr1의 원소 각각이 arr2에 포함되어 있는지 확인\n",
    "\n",
    "=> 있으면 TRUE, 없으면 FALSE\n",
    "\n",
    "boolean array로 return"
   ]
  },
  {
   "cell_type": "code",
   "execution_count": 46,
   "metadata": {},
   "outputs": [
    {
     "data": {
      "text/plain": [
       "array([ True,  True,  True,  True,  True,  True,  True,  True,  True,\n",
       "        True])"
      ]
     },
     "execution_count": 46,
     "metadata": {},
     "output_type": "execute_result"
    }
   ],
   "source": [
    "np.in1d(arr,arr2)"
   ]
  },
  {
   "cell_type": "markdown",
   "metadata": {},
   "source": [
    "**np.setdiff1d(arr1, arr2)**\n",
    "arr1 - arr2\n",
    "\n",
    "결국 arr2엔 없고 1에만 있는 것 return"
   ]
  },
  {
   "cell_type": "code",
   "execution_count": 47,
   "metadata": {},
   "outputs": [
    {
     "data": {
      "text/plain": [
       "array([], dtype=int64)"
      ]
     },
     "execution_count": 47,
     "metadata": {},
     "output_type": "execute_result"
    }
   ],
   "source": [
    "np.setdiff1d(arr,arr2)"
   ]
  },
  {
   "cell_type": "markdown",
   "metadata": {},
   "source": [
    "**np.setxor1d(arr1, arr2)**\n",
    "합집합 - 교집합"
   ]
  },
  {
   "cell_type": "code",
   "execution_count": 48,
   "metadata": {},
   "outputs": [
    {
     "data": {
      "text/plain": [
       "array([], dtype=int64)"
      ]
     },
     "execution_count": 48,
     "metadata": {},
     "output_type": "execute_result"
    }
   ],
   "source": [
    "np.setxor1d(arr,arr2)"
   ]
  },
  {
   "cell_type": "markdown",
   "metadata": {},
   "source": [
    "# File Input & Output with Arrays\n",
    "\n",
    "## Storing Arrays on Disk in Binary Format\n",
    "\n",
    "- ### 기본 저장&로드\n",
    "\n",
    "**np.save('파일명', arr)**\n",
    "\n",
    "**np.load('파일명.npy')**\n",
    "\n",
    "\n",
    "jupyter에서 될까 싶었는데 되네요..;;"
   ]
  },
  {
   "cell_type": "code",
   "execution_count": 49,
   "metadata": {},
   "outputs": [
    {
     "data": {
      "text/plain": [
       "array([ 0,  1,  2,  3,  4,  5,  6,  7,  8,  9, 10, 11, 12, 13, 14])"
      ]
     },
     "execution_count": 49,
     "metadata": {},
     "output_type": "execute_result"
    }
   ],
   "source": [
    "import numpy as np\n",
    "arr = np.arange(15)\n",
    "np.save('test',arr)\n",
    "np.load('test.npy')"
   ]
  },
  {
   "cell_type": "code",
   "execution_count": 50,
   "metadata": {},
   "outputs": [
    {
     "data": {
      "text/plain": [
       "array([[ 0,  1,  2,  3,  4],\n",
       "       [ 5,  6,  7,  8,  9],\n",
       "       [10, 11, 12, 13, 14]])"
      ]
     },
     "execution_count": 50,
     "metadata": {},
     "output_type": "execute_result"
    }
   ],
   "source": [
    "arr = np.arange(15).reshape(3,5)\n",
    "np.save('test',arr)\n",
    "np.load('test.npy')"
   ]
  },
  {
   "cell_type": "markdown",
   "metadata": {},
   "source": [
    "- ### dictionary 형태로 저장&로드\n",
    "\n",
    "**np.savez('파일명.npz',a=arr1, b=arr2)** a와 b가 key가 됨\n",
    "\n",
    "**np.load('파일명.npz')**\n"
   ]
  },
  {
   "cell_type": "code",
   "execution_count": 51,
   "metadata": {},
   "outputs": [
    {
     "name": "stdout",
     "output_type": "stream",
     "text": [
      "[[ 0  1  2  3  4]\n",
      " [ 5  6  7  8  9]\n",
      " [10 11 12 13 14]]\n"
     ]
    },
    {
     "data": {
      "text/plain": [
       "array([4, 8, 5, 3, 2, 7, 9, 3, 3, 6])"
      ]
     },
     "execution_count": 51,
     "metadata": {},
     "output_type": "execute_result"
    }
   ],
   "source": [
    "np.savez('test.npz',a = arr, b=arr2)\n",
    "arch = np.load('test.npz')\n",
    "print(arch['a'])\n",
    "arch['b']"
   ]
  },
  {
   "attachments": {
    "image.png": {
     "image/png": "[encoded data removed]"
    }
   },
   "cell_type": "markdown",
   "metadata": {},
   "source": [
    "## Saving & Loading Text Files\n",
    "\n",
    "> in Pandas\n",
    "\n",
    "**read_csv**\n",
    "\n",
    "**read_table**\n",
    "\n",
    "> in Numpy\n",
    "\n",
    "**np.loadtxt(\"파일명.txt\",delimiter=',')**\n",
    "\n",
    "**np.savetxt**\n",
    "\n",
    "![image.png](attachment:image.png)"
   ]
  },
  {
   "attachments": {
    "image.png": {
     "image/png": "[encoded data removed]"
    }
   },
   "cell_type": "markdown",
   "metadata": {},
   "source": [
    "![image.png](attachment:image.png)"
   ]
  },
  {
   "attachments": {
    "image.png": {
     "image/png": "[encoded data removed]"
    }
   },
   "cell_type": "markdown",
   "metadata": {},
   "source": [
    "![image.png](attachment:image.png)"
   ]
  },
  {
   "attachments": {
    "image.png": {
     "image/png": "[encoded data removed]"
    }
   },
   "cell_type": "markdown",
   "metadata": {},
   "source": [
    "![image.png](attachment:image.png)"
   ]
  },
  {
   "cell_type": "markdown",
   "metadata": {},
   "source": [
    "## Linear Algebra\n",
    "matrix multiplication, decompositions, determinants, ...\n",
    "\n",
    "- numpy에서 행렬의 곱은 .dot()을 이용하면 됨\n",
    "- np.dot(arr1, arr2) == arr1.dot(arr2)"
   ]
  },
  {
   "cell_type": "code",
   "execution_count": 52,
   "metadata": {},
   "outputs": [
    {
     "name": "stdout",
     "output_type": "stream",
     "text": [
      "[[0 1 2]\n",
      " [3 4 5]]\n",
      "[[ 6. 23.]\n",
      " [-1.  7.]\n",
      " [ 8.  9.]]\n"
     ]
    },
    {
     "data": {
      "text/plain": [
       "array([[ 15.,  25.],\n",
       "       [ 54., 142.]])"
      ]
     },
     "execution_count": 52,
     "metadata": {},
     "output_type": "execute_result"
    }
   ],
   "source": [
    "x = np.arange(6).reshape(2,3)\n",
    "y = np.array([[6.,23.],[-1,7],[8,9]])\n",
    "print(x)\n",
    "print(y)\n",
    "x.dot(y) # = np.dot(x,y)"
   ]
  },
  {
   "cell_type": "markdown",
   "metadata": {},
   "source": [
    "2D와 1D사이의 곱도 가능"
   ]
  },
  {
   "cell_type": "code",
   "execution_count": 53,
   "metadata": {},
   "outputs": [
    {
     "data": {
      "text/plain": [
       "array([ 3., 12.])"
      ]
     },
     "execution_count": 53,
     "metadata": {},
     "output_type": "execute_result"
    }
   ],
   "source": [
    "np.dot(x, np.ones(3))"
   ]
  },
  {
   "cell_type": "markdown",
   "metadata": {},
   "source": [
    "##### numpy.linalg 선형대수학 관련 함수를 쓸때\n",
    "matrix decomposition....inverse, determiant...\n",
    "fortran 라이브러리 사용"
   ]
  },
  {
   "cell_type": "code",
   "execution_count": 54,
   "metadata": {},
   "outputs": [
    {
     "name": "stdout",
     "output_type": "stream",
     "text": [
      "41.99365553690947\n"
     ]
    },
    {
     "data": {
      "text/plain": [
       "array([[ 0.6931759 ,  0.02728244, -0.34572291, -0.52155268,  0.25623615],\n",
       "       [ 0.02728244,  0.46561918,  0.28193083, -0.06573133,  0.3038026 ],\n",
       "       [-0.34572291,  0.28193083,  0.95727631, -0.04287969,  0.25507313],\n",
       "       [-0.52155268, -0.06573133, -0.04287969,  1.4592078 , -0.54879207],\n",
       "       [ 0.25623615,  0.3038026 ,  0.25507313, -0.54879207,  0.53729106]])"
      ]
     },
     "execution_count": 54,
     "metadata": {},
     "output_type": "execute_result"
    }
   ],
   "source": [
    "import numpy as np\n",
    "from numpy.linalg import inv, qr\n",
    "x = np.random.randn(5,5) #randn: 표준정규분포 normal dist.에서 랜덤추출\n",
    "from numpy.linalg import det\n",
    "mat = (x.T).dot(x) #xTx\n",
    "print(det(mat))\n",
    "inv(mat) #(xTx)^-1"
   ]
  },
  {
   "cell_type": "code",
   "execution_count": 55,
   "metadata": {
    "scrolled": true
   },
   "outputs": [
    {
     "data": {
      "text/plain": [
       "array([[ 1.00000000e+00, -2.38594915e-17, -3.41751407e-17,\n",
       "        -1.15985330e-16,  1.01415896e-16],\n",
       "       [ 5.40555442e-17,  1.00000000e+00, -1.71869836e-16,\n",
       "        -1.50664377e-16, -9.34634376e-17],\n",
       "       [-6.95818860e-17,  4.87519371e-17,  1.00000000e+00,\n",
       "        -1.78535345e-16,  1.48320315e-16],\n",
       "       [-2.10509109e-16, -3.06970426e-17,  4.66472969e-17,\n",
       "         1.00000000e+00, -7.06287483e-17],\n",
       "       [ 1.06641156e-16,  1.63136347e-17, -8.14595574e-17,\n",
       "        -2.73682240e-17,  1.00000000e+00]])"
      ]
     },
     "execution_count": 55,
     "metadata": {},
     "output_type": "execute_result"
    }
   ],
   "source": [
    "mat.dot(inv(mat)) #결과 왜 안나오지ㅠㅠㅠㅠㅠㅠㅠ"
   ]
  },
  {
   "cell_type": "code",
   "execution_count": 56,
   "metadata": {},
   "outputs": [
    {
     "data": {
      "text/plain": [
       "array([[ 1.00000000e+00, -2.38594915e-17, -3.41751407e-17,\n",
       "        -1.15985330e-16,  1.01415896e-16],\n",
       "       [ 5.40555442e-17,  1.00000000e+00, -1.71869836e-16,\n",
       "        -1.50664377e-16, -9.34634376e-17],\n",
       "       [-6.95818860e-17,  4.87519371e-17,  1.00000000e+00,\n",
       "        -1.78535345e-16,  1.48320315e-16],\n",
       "       [-2.10509109e-16, -3.06970426e-17,  4.66472969e-17,\n",
       "         1.00000000e+00, -7.06287483e-17],\n",
       "       [ 1.06641156e-16,  1.63136347e-17, -8.14595574e-17,\n",
       "        -2.73682240e-17,  1.00000000e+00]])"
      ]
     },
     "execution_count": 56,
     "metadata": {},
     "output_type": "execute_result"
    }
   ],
   "source": [
    "np.dot(mat,inv(mat))"
   ]
  },
  {
   "cell_type": "code",
   "execution_count": 57,
   "metadata": {},
   "outputs": [
    {
     "name": "stdout",
     "output_type": "stream",
     "text": [
      "det: -4.0\n",
      "inv: [[-0.75  1.25]\n",
      " [ 0.5  -0.5 ]]\n"
     ]
    },
    {
     "data": {
      "text/plain": [
       "array([[1., 0.],\n",
       "       [0., 1.]])"
      ]
     },
     "execution_count": 57,
     "metadata": {},
     "output_type": "execute_result"
    }
   ],
   "source": [
    "test = np.array([[2,5],[2,3]])\n",
    "print(\"det:\",det(test))\n",
    "print(\"inv:\",inv(test))\n",
    "test.dot(inv(test))"
   ]
  },
  {
   "cell_type": "code",
   "execution_count": null,
   "metadata": {},
   "outputs": [],
   "source": [
    "np.dot(test,inv(test))"
   ]
  },
  {
   "cell_type": "code",
   "execution_count": null,
   "metadata": {},
   "outputs": [],
   "source": [
    "test = np.array([[3,5],[2,4]])\n",
    "print(det(test))\n",
    "print(inv(test))\n",
    "test.dot(inv(test))"
   ]
  },
  {
   "cell_type": "code",
   "execution_count": null,
   "metadata": {},
   "outputs": [],
   "source": [
    "test = np.array([[1,5],[2,10]])\n",
    "print(det(test))\n",
    "print(inv(test))\n",
    "test.dot(inv(test))"
   ]
  },
  {
   "cell_type": "markdown",
   "metadata": {},
   "source": [
    "##### qr(arr)\n",
    "\n",
    "** QR Decomposition (QR 분해) **\n",
    "\n",
    ": matrix A를 orthogonal matrix (직교행렬) 와 upper-triangular matrix (상삼각행렬)의 곱으로 분해하는 것\n",
    "\n",
    "A = QR\n",
    "\n",
    "qr(mat)를 하면 return이 orthogonal mat.과 upper-triangular mat. 2가지 return"
   ]
  },
  {
   "cell_type": "markdown",
   "metadata": {},
   "source": [
    "선형최소제곱법, qr algorithm 등에 쓰임\n"
   ]
  },
  {
   "cell_type": "markdown",
   "metadata": {},
   "source": [
    "##### 선형대수 배우신 분..\n",
    "직교행렬과 직교행렬의 전치형태를 곱하면.. 단위행렬 나오는거 아닌가요?????"
   ]
  },
  {
   "cell_type": "code",
   "execution_count": 58,
   "metadata": {
    "scrolled": false
   },
   "outputs": [
    {
     "name": "stdout",
     "output_type": "stream",
     "text": [
      "[[ 3.48567852  0.10137803  1.78920616  0.54688498 -2.01047085]\n",
      " [ 0.10137803  4.56045195 -0.40442363 -1.11387458 -3.57270381]\n",
      " [ 1.78920616 -0.40442363  2.24049624  0.08473911 -1.60170277]\n",
      " [ 0.54688498 -1.11387458  0.08473911  1.55349756  1.91553302]\n",
      " [-2.01047085 -3.57270381 -1.60170277  1.91553302  7.55704492]]\n",
      "[[-0.7852825   0.18843463  0.49657207  0.1430669   0.28420383]\n",
      " [-0.02283928 -0.79125018  0.2056675  -0.46643216  0.33696207]\n",
      " [-0.40308717  0.17652122 -0.74944012 -0.40578348  0.28291387]\n",
      " [-0.12320677  0.22706961  0.26911185 -0.70023764 -0.60869167]\n",
      " [ 0.45293551  0.50566313  0.27755245 -0.32707785  0.59593535]]\n"
     ]
    },
    {
     "data": {
      "text/plain": [
       "array([[-4.43875739, -1.5017174 , -3.03481934,  0.23803515,  5.49285879],\n",
       "       [ 0.        , -5.72025628,  0.26196345,  2.32073028,  6.42160394],\n",
       "       [ 0.        ,  0.        , -1.295577  ,  0.92869861,  2.08021656],\n",
       "       [ 0.        ,  0.        ,  0.        , -1.15094355, -1.7843337 ],\n",
       "       [ 0.        ,  0.        ,  0.        ,  0.        ,  1.10914808]])"
      ]
     },
     "execution_count": 58,
     "metadata": {},
     "output_type": "execute_result"
    }
   ],
   "source": [
    "from numpy.linalg import qr\n",
    "print(mat)\n",
    "q, r = qr(mat)\n",
    "\n",
    "print(q)\n",
    "r"
   ]
  },
  {
   "cell_type": "code",
   "execution_count": null,
   "metadata": {},
   "outputs": [],
   "source": [
    "(q.T).dot(q) ##안나와.. 단위행렬.."
   ]
  },
  {
   "cell_type": "code",
   "execution_count": null,
   "metadata": {},
   "outputs": [],
   "source": [
    "q.dot(q.T)"
   ]
  },
  {
   "cell_type": "code",
   "execution_count": null,
   "metadata": {},
   "outputs": [],
   "source": [
    "q.dot(inv(q))"
   ]
  },
  {
   "cell_type": "code",
   "execution_count": null,
   "metadata": {},
   "outputs": [],
   "source": [
    "from numpy.random import rand\n",
    "mat = rand(5,5)\n",
    "print(mat)\n",
    "q, r = qr(mat)\n",
    "\n",
    "print()\n",
    "print(q)\n",
    "r"
   ]
  },
  {
   "cell_type": "code",
   "execution_count": null,
   "metadata": {},
   "outputs": [],
   "source": [
    "q.dot(q.T)"
   ]
  },
  {
   "cell_type": "markdown",
   "metadata": {},
   "source": [
    "**그외 numpy.linalg functions**"
   ]
  },
  {
   "cell_type": "code",
   "execution_count": 59,
   "metadata": {},
   "outputs": [
    {
     "name": "stdout",
     "output_type": "stream",
     "text": [
      "[[ 0  1  2  3  4]\n",
      " [ 5  6  7  8  9]\n",
      " [10 11 12 13 14]]\n"
     ]
    },
    {
     "data": {
      "text/plain": [
       "array([ 0,  6, 12])"
      ]
     },
     "execution_count": 59,
     "metadata": {},
     "output_type": "execute_result"
    }
   ],
   "source": [
    "arr = np.arange(15).reshape(3,5)\n",
    "print(arr)\n",
    "np.diag(arr)"
   ]
  },
  {
   "cell_type": "code",
   "execution_count": 60,
   "metadata": {},
   "outputs": [
    {
     "data": {
      "text/plain": [
       "array([ 2,  8, 14])"
      ]
     },
     "execution_count": 60,
     "metadata": {},
     "output_type": "execute_result"
    }
   ],
   "source": [
    "np.diag(arr,k=2)"
   ]
  },
  {
   "cell_type": "code",
   "execution_count": 61,
   "metadata": {},
   "outputs": [
    {
     "data": {
      "text/plain": [
       "array([3, 9])"
      ]
     },
     "execution_count": 61,
     "metadata": {},
     "output_type": "execute_result"
    }
   ],
   "source": [
    "np.diag(arr,k=3)"
   ]
  },
  {
   "cell_type": "markdown",
   "metadata": {},
   "source": [
    "arr.diag()는 불가\n",
    "\n",
    "##### 이런 차이가 나는 이유\n",
    "\n",
    "numpy.ndarray 아래에 있는 함수만 arr.함수() 형태가 가능하고 numpy아래의 다른 패키지..? 안에 있는 건 안됨"
   ]
  },
  {
   "cell_type": "code",
   "execution_count": null,
   "metadata": {},
   "outputs": [],
   "source": [
    "print(arr)\n",
    "arr.dot(arr.T)"
   ]
  },
  {
   "cell_type": "code",
   "execution_count": null,
   "metadata": {},
   "outputs": [],
   "source": [
    "arr.trace()"
   ]
  },
  {
   "cell_type": "code",
   "execution_count": null,
   "metadata": {},
   "outputs": [],
   "source": [
    "np.trace(arr)"
   ]
  },
  {
   "cell_type": "code",
   "execution_count": 62,
   "metadata": {},
   "outputs": [
    {
     "data": {
      "text/plain": [
       "65.99999999999997"
      ]
     },
     "execution_count": 62,
     "metadata": {},
     "output_type": "execute_result"
    }
   ],
   "source": [
    "from numpy.linalg import det\n",
    "arr = np.array([[1,8,5],[3,2,4],[5,2,3]])\n",
    "det(arr)"
   ]
  },
  {
   "cell_type": "markdown",
   "metadata": {},
   "source": [
    "**determinant = 행렬식**\n",
    "\n",
    "a b\n",
    "\n",
    "c d 에서 ad-bc\n",
    "\n",
    "행렬식 == 0 => 역행렬 존재X\n",
    "\n",
    "\n"
   ]
  },
  {
   "cell_type": "code",
   "execution_count": 63,
   "metadata": {},
   "outputs": [
    {
     "data": {
      "text/plain": [
       "(array([10.81675416+0.j        , -2.40837708+0.54896758j,\n",
       "        -2.40837708-0.54896758j]),\n",
       " array([[ 0.67656377+0.j        ,  0.69985027+0.j        ,\n",
       "          0.69985027-0.j        ],\n",
       "        [ 0.48256148+0.j        ,  0.128789  +0.11882526j,\n",
       "          0.128789  -0.11882526j],\n",
       "        [ 0.55623366+0.j        , -0.68313313-0.11328139j,\n",
       "         -0.68313313+0.11328139j]]))"
      ]
     },
     "execution_count": 63,
     "metadata": {},
     "output_type": "execute_result"
    }
   ],
   "source": [
    "from numpy.linalg import eig\n",
    "eig(arr)"
   ]
  },
  {
   "cell_type": "markdown",
   "metadata": {},
   "source": [
    "**eig는 어떤 square matrix의 eigenvalue로 이루어진 vector를 return,,**\n",
    "\n",
    "- eigenvalue = 고유값\n",
    "\n",
    "- eigenvector = 고유벡터\n",
    "\n",
    "- det(A－고유벡터)＝0 : 특성방정식\n",
    "\n",
    "matrix A가 고유값으로 서로 다른 값을 가지면(고유 벡터의 값이 중복되지 않으면)\n",
    "**대각화가능행렬 digonaliable matrix**\n",
    "\n",
    "~~그 외 여러 특징은 선형대수를 공부하시거나 통계를 계속 하시면 접하리라 생각합니다~~"
   ]
  },
  {
   "cell_type": "code",
   "execution_count": 64,
   "metadata": {},
   "outputs": [
    {
     "data": {
      "text/plain": [
       "array([[-0.03030303, -0.21212121,  0.33333333],\n",
       "       [ 0.16666667, -0.33333333,  0.16666667],\n",
       "       [-0.06060606,  0.57575758, -0.33333333]])"
      ]
     },
     "execution_count": 64,
     "metadata": {},
     "output_type": "execute_result"
    }
   ],
   "source": [
    "from numpy.linalg import pinv\n",
    "pinv(arr)"
   ]
  },
  {
   "cell_type": "markdown",
   "metadata": {},
   "source": [
    "pinv == pseudo-inverse **의사역행렬**\n",
    "\n",
    "직사각형 행렬에 대한 역행렬을 구해줌"
   ]
  },
  {
   "cell_type": "code",
   "execution_count": 65,
   "metadata": {
    "scrolled": true
   },
   "outputs": [
    {
     "data": {
      "text/plain": [
       "array([[-0.06862745,  0.1127451 ],\n",
       "       [ 0.01960784,  0.03921569],\n",
       "       [ 0.10784314, -0.03431373]])"
      ]
     },
     "execution_count": 65,
     "metadata": {},
     "output_type": "execute_result"
    }
   ],
   "source": [
    "arr2 = np.array([[1,5,9],[8,6,4]])\n",
    "pinv(arr2)"
   ]
  },
  {
   "cell_type": "code",
   "execution_count": 66,
   "metadata": {},
   "outputs": [
    {
     "ename": "LinAlgError",
     "evalue": "Last 2 dimensions of the array must be square",
     "output_type": "error",
     "traceback": [
      "\u001b[0;31m---------------------------------------------------------------------------\u001b[0m",
      "\u001b[0;31mLinAlgError\u001b[0m                               Traceback (most recent call last)",
      "\u001b[0;32m<ipython-input-66-16f41350f64a>\u001b[0m in \u001b[0;36m<module>\u001b[0;34m()\u001b[0m\n\u001b[0;32m----> 1\u001b[0;31m \u001b[0minv\u001b[0m\u001b[0;34m(\u001b[0m\u001b[0marr2\u001b[0m\u001b[0;34m)\u001b[0m \u001b[0;31m##error! 직사각형의 역행렬은 pinv로만\u001b[0m\u001b[0;34m\u001b[0m\u001b[0m\n\u001b[0m",
      "\u001b[0;32m~/anaconda3_501/lib/python3.6/site-packages/numpy/linalg/linalg.py\u001b[0m in \u001b[0;36minv\u001b[0;34m(a)\u001b[0m\n\u001b[1;32m    521\u001b[0m     \u001b[0ma\u001b[0m\u001b[0;34m,\u001b[0m \u001b[0mwrap\u001b[0m \u001b[0;34m=\u001b[0m \u001b[0m_makearray\u001b[0m\u001b[0;34m(\u001b[0m\u001b[0ma\u001b[0m\u001b[0;34m)\u001b[0m\u001b[0;34m\u001b[0m\u001b[0m\n\u001b[1;32m    522\u001b[0m     \u001b[0m_assertRankAtLeast2\u001b[0m\u001b[0;34m(\u001b[0m\u001b[0ma\u001b[0m\u001b[0;34m)\u001b[0m\u001b[0;34m\u001b[0m\u001b[0m\n\u001b[0;32m--> 523\u001b[0;31m     \u001b[0m_assertNdSquareness\u001b[0m\u001b[0;34m(\u001b[0m\u001b[0ma\u001b[0m\u001b[0;34m)\u001b[0m\u001b[0;34m\u001b[0m\u001b[0m\n\u001b[0m\u001b[1;32m    524\u001b[0m     \u001b[0mt\u001b[0m\u001b[0;34m,\u001b[0m \u001b[0mresult_t\u001b[0m \u001b[0;34m=\u001b[0m \u001b[0m_commonType\u001b[0m\u001b[0;34m(\u001b[0m\u001b[0ma\u001b[0m\u001b[0;34m)\u001b[0m\u001b[0;34m\u001b[0m\u001b[0m\n\u001b[1;32m    525\u001b[0m \u001b[0;34m\u001b[0m\u001b[0m\n",
      "\u001b[0;32m~/anaconda3_501/lib/python3.6/site-packages/numpy/linalg/linalg.py\u001b[0m in \u001b[0;36m_assertNdSquareness\u001b[0;34m(*arrays)\u001b[0m\n\u001b[1;32m    209\u001b[0m     \u001b[0;32mfor\u001b[0m \u001b[0ma\u001b[0m \u001b[0;32min\u001b[0m \u001b[0marrays\u001b[0m\u001b[0;34m:\u001b[0m\u001b[0;34m\u001b[0m\u001b[0m\n\u001b[1;32m    210\u001b[0m         \u001b[0;32mif\u001b[0m \u001b[0mmax\u001b[0m\u001b[0;34m(\u001b[0m\u001b[0ma\u001b[0m\u001b[0;34m.\u001b[0m\u001b[0mshape\u001b[0m\u001b[0;34m[\u001b[0m\u001b[0;34m-\u001b[0m\u001b[0;36m2\u001b[0m\u001b[0;34m:\u001b[0m\u001b[0;34m]\u001b[0m\u001b[0;34m)\u001b[0m \u001b[0;34m!=\u001b[0m \u001b[0mmin\u001b[0m\u001b[0;34m(\u001b[0m\u001b[0ma\u001b[0m\u001b[0;34m.\u001b[0m\u001b[0mshape\u001b[0m\u001b[0;34m[\u001b[0m\u001b[0;34m-\u001b[0m\u001b[0;36m2\u001b[0m\u001b[0;34m:\u001b[0m\u001b[0;34m]\u001b[0m\u001b[0;34m)\u001b[0m\u001b[0;34m:\u001b[0m\u001b[0;34m\u001b[0m\u001b[0m\n\u001b[0;32m--> 211\u001b[0;31m             \u001b[0;32mraise\u001b[0m \u001b[0mLinAlgError\u001b[0m\u001b[0;34m(\u001b[0m\u001b[0;34m'Last 2 dimensions of the array must be square'\u001b[0m\u001b[0;34m)\u001b[0m\u001b[0;34m\u001b[0m\u001b[0m\n\u001b[0m\u001b[1;32m    212\u001b[0m \u001b[0;34m\u001b[0m\u001b[0m\n\u001b[1;32m    213\u001b[0m \u001b[0;32mdef\u001b[0m \u001b[0m_assertFinite\u001b[0m\u001b[0;34m(\u001b[0m\u001b[0;34m*\u001b[0m\u001b[0marrays\u001b[0m\u001b[0;34m)\u001b[0m\u001b[0;34m:\u001b[0m\u001b[0;34m\u001b[0m\u001b[0m\n",
      "\u001b[0;31mLinAlgError\u001b[0m: Last 2 dimensions of the array must be square"
     ]
    }
   ],
   "source": [
    "inv(arr2) ##error! 직사각형의 역행렬은 pinv로만"
   ]
  },
  {
   "cell_type": "code",
   "execution_count": 67,
   "metadata": {},
   "outputs": [
    {
     "data": {
      "text/plain": [
       "array([[ 1.90909091e+00, -1.81818182e-01],\n",
       "       [ 7.30409885e-17, -2.33731163e-16],\n",
       "       [-1.81818182e-01,  1.63636364e+00]])"
      ]
     },
     "execution_count": 67,
     "metadata": {},
     "output_type": "execute_result"
    }
   ],
   "source": [
    "from numpy.linalg import solve\n",
    "solve(arr,arr2.T)"
   ]
  },
  {
   "cell_type": "markdown",
   "metadata": {},
   "source": [
    "solve는 **Ax = B**와 같은 행렬 사이의 1차방정식의 해를 구해줌\n"
   ]
  },
  {
   "cell_type": "markdown",
   "metadata": {},
   "source": [
    "그 외에 svd와 lstsq가 있는데 진짜 너무 수학적인게 많아서 시간이 없어 패스할게요 ㅠ^ㅠ"
   ]
  },
  {
   "cell_type": "markdown",
   "metadata": {},
   "source": [
    "## Random Number Generation"
   ]
  },
  {
   "cell_type": "markdown",
   "metadata": {},
   "source": [
    "다양한 분포에서 난수 발생시킬 수 있음\n",
    "\n",
    "### 얘네는 numpy.random에 존재"
   ]
  },
  {
   "cell_type": "markdown",
   "metadata": {},
   "source": [
    "##### 1. 정규분포(Normal Distribution)\n",
    "\n",
    "randn\n",
    "\n",
    "##### 2. 균등분포(Uniform Distribution)\n",
    "\n",
    "rand\n",
    "randint\n",
    "uniform \\[0,1)\n",
    "\n",
    "##### 3. 이항분포(Binomial Dist.)\n",
    "\n",
    "binomial\n",
    "\n",
    "##### 4. 그 외..\n",
    "\n",
    "beta\n",
    "chisquare\n",
    "gamma"
   ]
  },
  {
   "cell_type": "markdown",
   "metadata": {},
   "source": [
    "**seed** 같은 seed면 같은 난수 발생됨 무조건\n",
    "\n",
    "**permutation** =순열. 순서를 임의로 바꾸거나 임의의 순열을 반환한다. \n",
    "\n",
    "**shuffle** list나 배열의 순서를 뒤섞는데 복사본 만드는게 아니라 원래꺼 수정"
   ]
  },
  {
   "cell_type": "code",
   "execution_count": 68,
   "metadata": {
    "scrolled": true
   },
   "outputs": [],
   "source": [
    "np.random.seed(1)"
   ]
  },
  {
   "cell_type": "code",
   "execution_count": 73,
   "metadata": {},
   "outputs": [
    {
     "name": "stdout",
     "output_type": "stream",
     "text": [
      "[[1 8 5]\n",
      " [3 2 4]\n",
      " [5 2 3]]\n"
     ]
    },
    {
     "data": {
      "text/plain": [
       "array([[5, 2, 3],\n",
       "       [3, 2, 4],\n",
       "       [1, 8, 5]])"
      ]
     },
     "execution_count": 73,
     "metadata": {},
     "output_type": "execute_result"
    }
   ],
   "source": [
    "print(arr)\n",
    "np.random.permutation(arr) #행끼리 뒤섞게 됨.."
   ]
  },
  {
   "cell_type": "code",
   "execution_count": 74,
   "metadata": {},
   "outputs": [
    {
     "data": {
      "text/plain": [
       "array([11,  5,  3, 13,  6,  0,  8,  1,  9,  7,  4,  2, 14, 10, 12])"
      ]
     },
     "execution_count": 74,
     "metadata": {},
     "output_type": "execute_result"
    }
   ],
   "source": [
    "np.random.permutation(15)"
   ]
  },
  {
   "cell_type": "markdown",
   "metadata": {},
   "source": [
    "원래 순열은 n개중 r개를 뽑을때 몇가지 경우의 수가 나올 수 있는지에 대한 건데..\n",
    "\n",
    "~~ex) 1,2,3,4 중 2개 뽑으면 나올 수 있는 경우의 수 4*3~~\n",
    "\n",
    "왜 여기선 이러는지 모르겠네요 ㅠ\n"
   ]
  },
  {
   "cell_type": "code",
   "execution_count": 76,
   "metadata": {},
   "outputs": [
    {
     "data": {
      "text/plain": [
       "array([[5, 2, 3],\n",
       "       [3, 2, 4],\n",
       "       [1, 8, 5]])"
      ]
     },
     "execution_count": 76,
     "metadata": {},
     "output_type": "execute_result"
    }
   ],
   "source": [
    "np.random.shuffle(arr) #얘도 행끼리... 원래꺼를 수정함\n",
    "arr"
   ]
  },
  {
   "cell_type": "code",
   "execution_count": 77,
   "metadata": {},
   "outputs": [
    {
     "data": {
      "text/plain": [
       "array([[0.82914691, 0.82960336, 0.27304997],\n",
       "       [0.0592432 , 0.67052804, 0.59306552]])"
      ]
     },
     "execution_count": 77,
     "metadata": {},
     "output_type": "execute_result"
    }
   ],
   "source": [
    "np.random.rand(2,3) #2행 3열 0~1"
   ]
  },
  {
   "cell_type": "code",
   "execution_count": null,
   "metadata": {},
   "outputs": [],
   "source": [
    "np.random.uniform(10,20) #난수 1개 a to b"
   ]
  },
  {
   "cell_type": "code",
   "execution_count": 78,
   "metadata": {},
   "outputs": [
    {
     "data": {
      "text/plain": [
       "array([16.71654097, 14.11787879, 11.97550898])"
      ]
     },
     "execution_count": 78,
     "metadata": {},
     "output_type": "execute_result"
    }
   ],
   "source": [
    "from numpy.random import uniform\n",
    "uniform(10,20,3) #3개"
   ]
  },
  {
   "cell_type": "code",
   "execution_count": 79,
   "metadata": {},
   "outputs": [
    {
     "data": {
      "text/plain": [
       "array([[12.89629641, 11.42120135, 17.83314473],\n",
       "       [14.12538842, 10.34171311, 16.24029986]])"
      ]
     },
     "execution_count": 79,
     "metadata": {},
     "output_type": "execute_result"
    }
   ],
   "source": [
    "uniform(10,20,(2,3))"
   ]
  },
  {
   "cell_type": "code",
   "execution_count": 80,
   "metadata": {},
   "outputs": [
    {
     "data": {
      "text/plain": [
       "10"
      ]
     },
     "execution_count": 80,
     "metadata": {},
     "output_type": "execute_result"
    }
   ],
   "source": [
    "np.random.randint(10,20) #난수 1개 a to b, int"
   ]
  },
  {
   "cell_type": "code",
   "execution_count": 81,
   "metadata": {
    "scrolled": true
   },
   "outputs": [
    {
     "name": "stdout",
     "output_type": "stream",
     "text": [
      "6 4 6 3 5 7 4 4 3 2 6 4 4 5 2 5 3 5 6 3 5 6 5 2 5 6 5 7 5 7 3 3 6 5 3 7 4 6 6 7 6 6 4 4 7 5 8 6 5 3 8 5 5 5 4 7 5 1 5 4 5 7 4 7 6 2 7 6 9 4 3 7 6 3 6 6 7 6 3 2 2 2 4 7 5 5 7 3 4 5 8 5 2 6 4 6 5 7 6 5 3 3 3 2 3 4 6 5 2 3 8 5 4 4 6 4 5 8 7 4 5 5 7 3 2 3 5 5 5 4 8 5 5 5 6 6 4 3 4 6 4 6 3 4 6 4 6 5 7 4 3 6 6 7 7 2 4 5 8 8 5 7 6 5 5 5 5 7 7 5 8 4 3 3 5 2 8 6 2 4 4 3 6 4 7 5 7 7 7 5 5 6 4 5 5 2 5 5 6 4 7 5 4 6 5 2 5 6 7 0 8 4 8 5 7 5 6 4 5 6 7 6 6 7 4 6 5 5 5 5 4 5 5 8 6 4 5 4 6 7 7 6 4 4 7 5 6 5 6 5 6 5 5 4 3 5 3 8 4 6 7 6 5 3 5 4 4 5 4 7 7 4 3 4 5 6 4 4 7 5 5 4 3 5 5 3 5 5 6 3 6 4 5 6 2 4 7 7 5 7 8 6 7 3 6 6 5 6 2 6 6 4 4 6 4 6 5 6 9 4 3 7 5 8 6 9 5 5 3 4 2 3 6 2 4 7 6 6 4 5 5 9 4 4 4 6 5 3 5 4 6 4 2 5 7 5 6 5 5 8 6 2 6 5 8 4 4 3 5 3 6 6 6 6 4 7 5 6 6 3 3 2 3 5 3 2 6 5 6 5 5 5 5 6 5 7 2 6 3 5 1 5 1 8 7 6 7 3 3 4 5 7 9 6 6 7 5 4 4 3 6 3 4 6 4 8 4 5 4 7 4 5 5 7 2 6 7 2 5 4 7 5 6 5 6 4 1 5 4 5 7 5 4 4 7 7 7 7 4 3 4 4 4 5 5 6 4 6 4 5 4 3 4 6 5 5 4 5 9 6 5 8 7 5 2 3 3 5 4 8 3 8 6 6 6 6 5 2 4 5 6 5 5 3 2 6 4 8 4 4 5 6 5 3 4 5 6 6 3 2 5 6 2 6 6 5 7 6 1 5 7 7 6 6 5 4 5 6 4 7 4 6 4 6 5 6 4 4 6 4 6 6 4 4 4 3 5 2 3 6 6 3 4 4 7 6 5 4 7 5 7 6 5 3 8 3 4 5 5 3 6 4 6 6 4 5 6 6 5 4 6 7 5 6 3 7 4 5 4 3 7 4 5 5 3 4 3 5 4 4 3 6 3 8 4 5 2 6 4 5 6 3 5 4 6 6 4 7 2 7 5 5 6 6 8 4 1 7 7 6 5 6 6 4 6 6 5 5 6 1 6 7 4 3 4 4 7 5 4 3 4 5 4 5 5 7 5 4 6 4 5 4 6 7 5 6 5 6 3 5 7 5 6 5 5 7 3 5 7 5 4 7 4 6 5 8 6 7 1 9 3 4 8 1 6 7 5 4 6 5 3 7 7 5 7 5 6 5 5 4 8 4 3 3 2 6 5 6 5 6 6 6 5 6 4 4 4 5 4 5 8 4 8 6 4 7 5 4 6 5 4 4 6 4 6 4 5 5 7 7 4 5 7 5 7 4 5 6 4 2 5 7 4 6 4 4 3 6 6 6 4 6 4 5 4 4 3 6 6 5 6 3 3 5 7 4 5 5 5 3 4 4 7 6 5 5 3 5 4 7 6 6 3 5 8 8 6 3 6 5 5 5 5 7 6 5 7 3 9 2 4 5 3 6 2 4 3 6 6 5 4 6 4 6 5 5 2 6 4 4 5 5 5 8 4 6 5 7 4 4 7 2 8 5 4 9 3 5 2 5 4 6 8 7 5 6 6 5 5 3 4 3 6 5 5 7 5 5 4 3 5 2 4 5 8 3 6 5 6 3 3 5 6 4 6 4 4 2 5 5 6 3 3 2 3 6 5 4 5 9 7 6 7 2 3 5 4 7 5 5 7 5 7 4 4 4 5 4 6 3 3 7 4 5 5 5 3 7 8 6 4 5 4 5 8 4 6 4 6 4 7 6 6 5 4 2 4 2 6 6 5 6 5 2 3 4 4 2 5 5 5 5 7 5 2 7 6 6 8 2 4 3 5 7 3 5 3 6 7 2 \n",
      "4.989\n"
     ]
    }
   ],
   "source": [
    "mysum=0\n",
    "size = 1000\n",
    "for i in range(size):\n",
    "    cur = np.random.binomial(10,0.5)\n",
    "    print(cur,end=' ')\n",
    "    mysum += cur\n",
    "print()\n",
    "print(mysum/size)\n",
    "    \n",
    "#난수 1개"
   ]
  },
  {
   "cell_type": "code",
   "execution_count": 82,
   "metadata": {},
   "outputs": [
    {
     "data": {
      "text/plain": [
       "5.05"
      ]
     },
     "execution_count": 82,
     "metadata": {},
     "output_type": "execute_result"
    }
   ],
   "source": [
    "binomArr=np.random.binomial(10,0.5,100)\n",
    "binomArr.mean()"
   ]
  },
  {
   "cell_type": "code",
   "execution_count": 83,
   "metadata": {},
   "outputs": [
    {
     "data": {
      "text/plain": [
       "1.1361944572872122"
      ]
     },
     "execution_count": 83,
     "metadata": {},
     "output_type": "execute_result"
    }
   ],
   "source": [
    "chiArr = np.random.chisquare(1,100)\n",
    "chiArr.mean()"
   ]
  },
  {
   "cell_type": "code",
   "execution_count": 84,
   "metadata": {},
   "outputs": [
    {
     "data": {
      "text/plain": [
       "array([0.15324364, 1.54009058, 2.19749585])"
      ]
     },
     "execution_count": 84,
     "metadata": {},
     "output_type": "execute_result"
    }
   ],
   "source": [
    "np.random.chisquare(1,3)"
   ]
  },
  {
   "cell_type": "code",
   "execution_count": 85,
   "metadata": {},
   "outputs": [
    {
     "data": {
      "text/plain": [
       "array([[ 0.47817164,  0.88246592],\n",
       "       [-2.16442114, -0.17567274],\n",
       "       [-1.28334369, -0.76299698],\n",
       "       [ 0.24397621,  0.44441357],\n",
       "       [-0.03616551, -0.44557416]])"
      ]
     },
     "execution_count": 85,
     "metadata": {},
     "output_type": "execute_result"
    }
   ],
   "source": [
    "np.random.randn(5,2) #표준정규분포에서 10개"
   ]
  },
  {
   "cell_type": "code",
   "execution_count": 86,
   "metadata": {},
   "outputs": [
    {
     "data": {
      "text/plain": [
       "array([[ 4.41881643e+00,  5.01395646e+00,  8.34534687e+00,\n",
       "        -6.89553399e-02, -2.97053454e+00, -2.44980363e+00,\n",
       "         6.15345463e+00,  3.16436115e+00,  3.23330288e+00,\n",
       "         8.01984705e+00,  1.02090509e+01, -1.36101925e+00,\n",
       "         1.41979960e+01, -1.72094941e+00, -2.21948676e-01,\n",
       "         1.70085011e+00,  3.57471331e+00, -3.74399630e+00,\n",
       "         9.62304894e+00,  1.17389953e+00,  1.24434578e+00,\n",
       "         2.25981107e+00, -1.74759144e+00, -3.79700524e+00,\n",
       "         2.84284345e+00,  6.09332623e+00,  3.12217116e+00,\n",
       "        -6.01534408e+00, -1.06713641e+00,  4.49980642e+00],\n",
       "       [ 5.97405837e+00,  5.18070651e+00, -1.97291547e+00,\n",
       "        -7.45626563e+00,  1.96635490e+00,  1.49805342e+00,\n",
       "         4.53349144e+00,  7.41153736e+00, -6.16663917e-02,\n",
       "        -2.72014858e+00,  2.01473597e+00, -3.02082102e+00,\n",
       "         6.08361784e+00, -1.88794296e+00,  8.12569054e+00,\n",
       "         4.01330626e+00,  6.37867726e+00, -3.65699157e+00,\n",
       "         3.09248480e+00,  3.41844334e-01,  2.97144823e+00,\n",
       "         1.57359625e+00, -3.90903885e+00,  7.71043472e+00,\n",
       "         6.06779877e+00, -4.80430884e+00,  1.04812986e+01,\n",
       "        -1.41312885e+00,  1.44941075e+01,  2.66555089e+00],\n",
       "       [-3.68937279e+00, -1.60517486e+00,  2.26545377e+00,\n",
       "         4.47873765e+00,  4.95427033e+00, -5.56333124e+00,\n",
       "         1.79121446e+00, -3.57038194e+00,  5.73493960e+00,\n",
       "         2.96359443e+00,  1.80566096e+00,  1.40371712e+01,\n",
       "         1.02293357e+01,  8.90936269e+00, -3.56883991e-01,\n",
       "         2.49598169e+00, -1.29106444e+01, -3.20940680e-01,\n",
       "        -7.30972865e-02,  6.87386631e+00, -3.99130291e+00,\n",
       "         7.86681033e-02,  5.15787623e+00,  8.34580201e-01,\n",
       "         1.32608245e+00,  6.08621512e+00, -3.09873448e+00,\n",
       "        -9.47316145e+00, -2.22643421e+00,  4.98459489e+00],\n",
       "       [-6.56389247e+00,  5.75995118e+00,  4.98696172e-01,\n",
       "         4.97866277e+00, -1.08489130e+00, -2.01783300e+00,\n",
       "        -7.14317013e-01,  4.79757640e+00,  3.14155222e+00,\n",
       "         1.79057473e+00,  2.75930571e+00,  2.91776556e+00,\n",
       "         5.78797450e+00,  5.74127292e+00,  4.91221672e+00,\n",
       "         7.15351169e+00,  1.38017139e+01, -5.62452306e+00,\n",
       "         1.27760532e+01,  3.31220451e+00,  4.10353829e+00,\n",
       "         1.29364158e+01,  3.11401261e+00,  9.47984159e+00,\n",
       "         2.39943887e-01,  7.11005122e+00, -1.35990033e+00,\n",
       "         7.39132281e+00,  5.75052884e+00,  3.49079437e+00],\n",
       "       [-3.55668340e+00,  5.83524821e+00,  4.93160406e+00,\n",
       "         1.05159398e+01, -6.86431099e-01,  4.56211795e+00,\n",
       "         4.08315313e+00, -5.98795303e-01, -1.00903543e+00,\n",
       "         2.12321554e+00,  1.03513935e+01, -2.50618910e+00,\n",
       "        -1.54657701e-01,  1.07453797e+01, -1.33736709e+00,\n",
       "         7.98662412e+00,  7.56973163e+00, -5.00842899e+00,\n",
       "         7.82625553e+00,  4.20888217e+00,  7.17751476e+00,\n",
       "        -8.51253845e-01,  1.35861511e+01,  1.38815793e+00,\n",
       "         1.22375368e+00,  4.92824088e+00,  1.14554906e+00,\n",
       "         7.86955557e+00, -3.83928396e+00,  1.20923407e+01],\n",
       "       [ 5.33401407e+00, -2.15045236e+00,  2.94195274e+00,\n",
       "         2.85732849e+00,  7.88729414e+00, -5.02954097e+00,\n",
       "         7.85981769e+00,  5.11819872e+00,  4.05746919e+00,\n",
       "         5.81789901e+00, -6.24214164e+00,  1.01333199e+01,\n",
       "         1.42938540e+00,  6.28344983e+00,  1.25463765e+01,\n",
       "         5.54245410e+00, -1.79411894e-01,  4.78290599e-01,\n",
       "         1.03310611e+01,  3.21305192e+00, -5.50022855e-01,\n",
       "         4.79272425e+00,  2.76313749e+00,  7.68457100e+00,\n",
       "         3.38610894e+00,  6.22766040e+00,  5.24237495e+00,\n",
       "         6.85735209e+00,  1.46174247e+00,  6.55577685e+00],\n",
       "       [ 1.36986336e+01,  4.99189097e+00, -4.08265651e+00,\n",
       "         5.48691826e+00, -4.71295509e+00,  7.59232499e-01,\n",
       "         3.81453855e+00,  1.34970300e+00,  8.51457672e+00,\n",
       "        -4.46871285e+00,  6.96886454e+00, -3.35696878e+00,\n",
       "        -4.20820258e+00, -1.52676274e+00, -3.48353671e+00,\n",
       "         5.57836320e+00, -9.06722373e-01,  6.40274285e+00,\n",
       "         4.20429719e-01,  6.27682218e+00,  1.00927154e+01,\n",
       "         7.42986806e+00, -2.75836935e-01,  1.02356719e+01,\n",
       "         4.72196417e+00,  4.11037518e+00, -1.11652864e+00,\n",
       "         3.87860241e+00,  2.38327812e+00,  2.45970871e+00],\n",
       "       [ 5.42339384e+00,  1.34776773e+00,  3.37782613e+00,\n",
       "         4.69706307e+00,  2.36206159e+00,  4.51645923e+00,\n",
       "         5.77360656e+00,  5.66952781e+00,  2.35101942e+00,\n",
       "         8.63659025e+00,  2.46311837e+00,  3.95497052e+00,\n",
       "         3.85395991e+00,  6.11450784e+00,  5.43221988e+00,\n",
       "         1.13542249e+01, -5.54107560e+00,  2.73126389e+00,\n",
       "        -2.79198383e+00, -1.00336356e+00,  6.23865211e+00,\n",
       "        -3.40754005e-02, -1.26561640e+00,  3.02451039e+00,\n",
       "         3.92106694e+00,  1.05818124e+01,  3.54995716e+00,\n",
       "         1.15524004e+01,  3.82865804e+00,  2.82948861e+00],\n",
       "       [ 2.15772899e+00,  6.32684601e+00,  5.66900350e+00,\n",
       "        -3.39269503e+00,  5.40027245e+00,  4.50747879e-01,\n",
       "        -1.28200520e+00, -2.03674719e+00,  8.59411824e+00,\n",
       "         3.54548960e+00, -5.72631351e+00,  1.79931788e-01,\n",
       "         1.15403233e+01,  1.72169591e+00,  9.76184146e+00,\n",
       "         7.26780367e+00,  3.46961575e+00,  6.85520247e+00,\n",
       "        -4.91048424e+00,  1.08042329e+01, -4.27175354e+00,\n",
       "         7.66952939e+00,  1.39014227e+00, -2.37716408e+00,\n",
       "         5.01831540e+00,  1.37817596e+01, -2.67859014e+00,\n",
       "         2.38654411e-01,  7.69233154e+00,  9.50178588e+00],\n",
       "       [ 1.16298854e+01,  7.83587382e-01,  5.15553041e+00,\n",
       "         7.71164733e+00, -3.27282182e+00, -6.10992079e+00,\n",
       "         6.70862514e+00,  2.84795111e+00,  2.65892046e+00,\n",
       "         8.61756079e+00,  8.20063184e+00,  3.75526830e+00,\n",
       "         3.73192261e+00,  5.36252019e+00, -7.90104537e-01,\n",
       "         9.34822172e+00,  8.40150598e+00,  3.76485131e+00,\n",
       "         4.74411138e+00,  4.97857672e+00,  3.52988552e+00,\n",
       "        -2.43545913e+00,  4.01894858e+00,  4.50786332e+00,\n",
       "         4.75560746e+00,  2.70872105e+00, -9.72822458e-01,\n",
       "        -2.95069032e+00, -3.70766230e+00, -4.94008869e-02],\n",
       "       [ 8.18669882e+00, -1.44724140e+00,  1.50799027e+00,\n",
       "         1.17521363e+01,  8.69447607e+00, -6.05864618e+00,\n",
       "         1.50798312e+01,  1.10503665e+01, -4.24302521e+00,\n",
       "         1.10152323e+01, -7.31948975e-01,  7.07577366e+00,\n",
       "         4.59448903e+00,  3.53944477e+00,  3.54482355e+00,\n",
       "        -1.86505864e+00, -3.68751269e+00,  6.30185949e+00,\n",
       "         4.08760879e+00,  6.67991931e+00,  6.70373911e+00,\n",
       "        -6.78691062e-01,  3.66097835e+00, -1.72158944e+00,\n",
       "         3.85687692e+00, -1.28569204e+00,  6.83631367e+00,\n",
       "        -3.34017535e+00,  4.01694245e+00,  1.20749644e+01],\n",
       "       [ 8.32153170e+00,  5.67561963e+00,  5.33809976e+00,\n",
       "         9.00754012e+00, -8.05854158e+00, -2.87436601e+00,\n",
       "         4.90341359e+00,  6.51497376e+00,  4.35553827e+00,\n",
       "        -3.49731763e+00,  4.65928208e+00,  4.79046494e+00,\n",
       "         2.04616581e-01,  2.99601685e+00,  2.36947571e+00,\n",
       "         7.45735756e-01, -3.09606892e+00,  5.39455246e+00,\n",
       "         1.41761588e+01,  6.75778331e+00,  2.02776957e+00,\n",
       "        -4.76289435e+00,  1.09157841e+01,  2.73329121e+00,\n",
       "         3.35926095e-01,  1.40241736e+01,  2.31447890e-01,\n",
       "         1.29134195e+01,  1.35183624e+01,  4.70553809e+00],\n",
       "       [ 5.61039156e+00,  1.10896780e-01,  4.30121001e+00,\n",
       "         3.27865968e+00,  2.08053446e+00, -4.56692577e+00,\n",
       "         4.11691564e+00,  7.35653814e+00, -4.12493729e-02,\n",
       "         1.09601356e+01,  4.73767485e+00,  3.71800602e+00,\n",
       "         5.79345260e+00,  2.75176756e-01,  1.25827560e+00,\n",
       "         1.70361607e+00,  2.33374147e+00,  3.42545429e+00,\n",
       "         8.88997280e+00,  1.98999653e+00, -1.64699282e+00,\n",
       "         1.46991469e+01,  1.65779458e+01,  5.32464440e+00,\n",
       "        -3.73615705e+00,  1.68810265e+00,  3.41599282e+00,\n",
       "        -1.72664185e-01,  9.87586239e-01,  7.96703059e+00],\n",
       "       [ 2.33681310e+00, -7.91935876e-01, -3.92264700e+00,\n",
       "         1.24664486e+01,  4.98275969e+00,  6.59532340e+00,\n",
       "         1.28394296e+01,  1.40041177e+00,  5.72656319e+00,\n",
       "         5.78988283e+00, -1.35694492e+00, -5.84641310e-01,\n",
       "         8.69775692e+00,  1.83883829e+00,  6.60769801e+00,\n",
       "         2.58886772e+00,  9.19962480e+00, -4.64985618e+00,\n",
       "         2.75730774e+00, -2.67634365e-02,  4.99438443e+00,\n",
       "        -7.24094123e+00, -2.48579400e-01,  1.14880259e+00,\n",
       "         9.14850516e+00,  8.70537668e+00,  5.57621451e+00,\n",
       "         5.35429489e+00, -2.78448088e+00,  5.87285301e+00],\n",
       "       [ 3.24973328e-01, -4.83044211e+00, -4.28755277e+00,\n",
       "         1.65011235e+01,  9.14899432e+00,  2.41122728e+00,\n",
       "         4.04945258e+00,  4.22620370e+00,  3.94708609e+00,\n",
       "         8.03896222e+00,  3.49514775e+00,  5.15653344e+00,\n",
       "        -5.10751642e+00,  7.66379338e+00,  1.29085140e+00,\n",
       "         3.69125259e+00, -2.17421554e+00,  5.47343864e+00,\n",
       "         1.22197504e+00,  2.38017964e+00, -2.99299917e+00,\n",
       "         3.15697458e+00,  6.43841639e+00,  3.17837934e+00,\n",
       "         1.52615443e+00,  7.99345950e+00,  7.79884003e+00,\n",
       "        -9.62808088e-01, -9.83958295e-01, -1.20681748e+00],\n",
       "       [ 1.33201215e+01, -5.70241241e+00,  7.10588848e+00,\n",
       "         6.27806168e+00, -3.58538202e+00,  1.90563750e+00,\n",
       "         3.53167061e+00,  6.08546291e+00,  4.37930600e+00,\n",
       "         7.76925213e+00, -1.21947125e+00, -2.13986782e+00,\n",
       "         5.75602181e+00,  3.19636349e+00,  3.21266562e+00,\n",
       "        -3.77857892e+00,  8.94881248e+00, -4.45264957e-01,\n",
       "         1.34083075e+00,  9.66100428e+00, -1.92849866e-01,\n",
       "        -1.22747998e+00,  7.91892889e+00,  4.30248501e+00,\n",
       "         8.63387695e+00,  7.26493606e+00,  2.75810744e+00,\n",
       "         4.39220910e+00,  1.29009791e+01,  4.74489196e+00],\n",
       "       [-6.51887965e+00,  3.61007697e+00,  1.43713402e+00,\n",
       "         1.32389340e-01,  6.27785365e+00,  9.25971985e+00,\n",
       "         3.40302192e+00,  1.00934056e+01,  6.11173067e+00,\n",
       "        -3.51469229e+00,  2.14307410e+00,  7.34036241e+00,\n",
       "         1.09077979e+01,  5.78699864e-01,  4.10689645e-01,\n",
       "        -1.77069626e+00,  2.85163110e+00, -5.28543001e+00,\n",
       "         4.48264810e+00,  4.35903083e+00, -4.21164536e+00,\n",
       "         5.65982176e+00,  5.94695541e+00, -7.95924738e-01,\n",
       "         4.18151458e+00, -4.86220354e+00, -1.06602904e+00,\n",
       "         6.72982367e+00,  3.47822506e+00,  2.52042471e+00],\n",
       "       [ 1.91467935e+00,  1.44729829e+00,  3.12059951e+00,\n",
       "         2.68048124e+00,  6.79129573e-01, -4.20627964e+00,\n",
       "         1.32016562e+00, -1.93485022e+00, -1.55639181e+00,\n",
       "        -9.73504336e+00, -1.51499532e+00,  2.12303434e+00,\n",
       "         5.10168232e-01,  4.87070077e+00, -5.12431991e+00,\n",
       "         3.02830708e-01,  8.24414649e+00, -3.05230728e+00,\n",
       "        -3.89280373e+00,  3.39559624e+00, -7.38506689e+00,\n",
       "         1.00235172e+00, -1.94162970e+00,  6.68941850e+00,\n",
       "         3.46003228e+00,  9.05061785e+00, -5.41422918e+00,\n",
       "         3.02116495e+00,  2.39231946e+00, -3.76759219e+00],\n",
       "       [ 7.44251530e+00, -1.99732902e-01, -3.18485567e+00,\n",
       "         7.60637319e+00, -7.75698093e-01, -5.74227879e+00,\n",
       "         1.07086347e+01,  6.61242845e+00,  5.12878500e+00,\n",
       "         7.19970965e+00, -4.98273335e-01,  8.10697712e+00,\n",
       "         6.50589310e+00,  1.20612161e+00,  4.61425778e+00,\n",
       "        -1.52271803e+00,  7.00382832e+00,  2.79953629e-01,\n",
       "         9.79197629e+00, -9.42961527e-01,  2.58107600e+00,\n",
       "        -3.94474589e+00,  8.57939535e-01,  9.31304492e+00,\n",
       "         5.21318807e+00, -2.02744746e+00, -1.14130585e+00,\n",
       "         7.77281389e+00,  7.59976480e+00,  2.44131700e+00],\n",
       "       [ 4.95034050e+00,  6.50165071e+00,  9.19366227e+00,\n",
       "         4.77391010e+00,  9.13263003e+00, -7.26326873e+00,\n",
       "         9.99176974e-01,  4.13456459e+00, -4.75174250e+00,\n",
       "        -5.26080775e-01,  2.63806302e+00, -1.06959473e+01,\n",
       "         2.74902760e+00,  1.36697362e+01,  9.26635719e+00,\n",
       "         1.21569389e+01,  2.50704301e-02, -2.05464843e+00,\n",
       "         4.49981113e+00, -2.36636231e+00,  3.01024593e+00,\n",
       "         1.52498441e+01,  8.63637833e+00, -3.58864807e+00,\n",
       "         1.00626780e+00,  1.12910322e+01, -1.60610587e+00,\n",
       "         5.89334933e+00,  2.16646153e+00,  9.03279342e-03],\n",
       "       [-1.22534197e-01,  4.54087137e+00,  1.95681777e+00,\n",
       "        -3.89074016e+00,  9.89696518e+00,  6.34058673e+00,\n",
       "         4.35779554e+00, -1.25200378e+00,  1.08940965e+01,\n",
       "        -2.22773227e+00,  3.67507814e+00, -4.16792726e+00,\n",
       "        -3.76604817e+00,  2.72042733e+00,  5.85889013e+00,\n",
       "         1.38136797e+01,  3.65146337e-01,  9.76793893e+00,\n",
       "         3.04485148e+00,  4.44285850e+00,  1.12875740e+01,\n",
       "         2.29642042e+00, -6.55324788e+00,  8.04897579e+00,\n",
       "        -3.88545250e+00,  2.76177658e+00,  1.12899855e+00,\n",
       "         2.57640556e+00, -5.72659652e+00,  1.55008321e+00],\n",
       "       [ 5.80672612e-01,  3.13730738e+00, -5.89723181e+00,\n",
       "         5.36770396e+00,  1.10060531e+01,  5.66527000e+00,\n",
       "         1.26563935e+01, -5.31089958e-01,  2.93498056e+00,\n",
       "        -4.54889819e+00,  5.82443619e+00,  7.18833752e+00,\n",
       "         4.36777495e-01,  1.18474361e+01,  4.16054906e+00,\n",
       "         3.70241713e+00,  9.14836605e+00, -9.89414251e+00,\n",
       "         2.18704239e+00, -2.29924047e-01,  7.79963299e+00,\n",
       "         2.60205555e+00,  4.60593698e+00,  2.94165040e-01,\n",
       "         1.41224506e+01,  7.74725471e+00,  7.12452663e+00,\n",
       "         4.88435074e+00,  1.27095573e+01,  1.35653088e+01],\n",
       "       [-4.62355342e+00,  7.45985993e+00,  8.33530252e+00,\n",
       "        -6.48796078e+00,  2.97369731e-01,  5.80056526e+00,\n",
       "         8.86716690e+00, -1.16573333e+00,  1.07189289e+00,\n",
       "         2.32199335e+00,  1.08492958e+00,  8.50293568e-01,\n",
       "         1.44282351e+01,  2.58662656e+00,  8.34548762e+00,\n",
       "        -1.06827464e+00, -1.25277972e+00, -4.04050846e+00,\n",
       "        -4.39581199e-01, -5.26022363e+00, -3.54199141e-01,\n",
       "        -2.28633367e+00,  7.08581479e+00,  3.03846328e+00,\n",
       "         1.58923381e+00,  1.12108232e+01,  6.36798936e+00,\n",
       "         9.69851838e+00,  4.05750114e+00, -6.58135998e+00],\n",
       "       [-2.01877873e+00,  8.47314839e+00, -1.76610672e+00,\n",
       "         4.62678060e+00,  3.84267949e+00,  1.10671425e+01,\n",
       "         5.93429974e+00,  5.07725499e+00,  3.76208490e+00,\n",
       "         5.20700206e+00,  5.20509012e+00,  6.22015554e+00,\n",
       "         6.41560023e+00,  5.16194776e+00, -8.00593352e-01,\n",
       "         2.04752132e+00,  3.75104856e+00,  9.35797561e+00,\n",
       "         9.44199532e+00,  3.83356382e+00,  1.19217806e+01,\n",
       "         8.50632692e+00, -4.10644408e+00, -9.85259560e-01,\n",
       "         8.08702221e+00,  3.12405079e+00,  1.24938187e+01,\n",
       "         6.79927984e+00,  5.21203826e+00,  2.72535342e+00],\n",
       "       [-8.77977313e-01,  9.48182524e+00,  5.86021710e+00,\n",
       "         1.33042951e+01,  1.27610948e+00,  5.94324421e+00,\n",
       "         2.71264202e+00,  2.63519683e+00,  8.18916584e+00,\n",
       "         1.34452869e+00,  6.88541871e+00, -4.04631127e+00,\n",
       "        -3.47883007e+00,  1.17052331e+01, -9.43146963e-01,\n",
       "        -4.93253824e+00,  1.05622047e+01, -2.67435563e+00,\n",
       "         3.51127225e+00, -1.23925938e+00, -5.31598220e+00,\n",
       "         1.00631538e+01,  5.24245738e+00, -1.02356484e+00,\n",
       "         1.59981858e+00,  6.12387437e+00, -8.59297801e-01,\n",
       "         7.83982759e+00,  3.02088676e+00,  3.04720323e+00],\n",
       "       [ 6.16596630e+00,  3.91888377e+00,  4.65794138e+00,\n",
       "         2.09608133e+00,  8.49557057e+00,  6.60649429e+00,\n",
       "         9.03719658e+00,  4.29520979e+00, -9.98234449e-01,\n",
       "         5.24334081e+00, -4.46750467e+00,  6.80553417e+00,\n",
       "         1.30841820e+01, -6.17939764e+00,  7.32919142e+00,\n",
       "         3.78558899e+00, -4.58354083e-01, -7.05680107e+00,\n",
       "         4.22711911e+00,  8.60997469e+00, -3.44872806e+00,\n",
       "         7.48048890e+00,  1.48273651e+01,  1.77487751e+00,\n",
       "         2.70577188e+00, -2.04661872e+00,  3.31674261e+00,\n",
       "         1.80546476e+00,  1.76589945e+00,  1.00583609e+00],\n",
       "       [-1.86687494e+00,  2.06878046e+00,  3.15179727e+00,\n",
       "         3.65991045e+00,  1.54541665e+00,  2.62628284e+00,\n",
       "        -1.72592833e+00, -7.97384289e+00,  2.19118456e+00,\n",
       "         4.57385375e+00,  1.08362647e+01,  8.44572407e+00,\n",
       "         3.12511472e+00, -3.81737418e+00,  2.16670087e+00,\n",
       "         3.59179085e+00,  1.33512349e+00,  3.37248524e+00,\n",
       "         6.99506379e+00,  2.82545070e+00, -6.32822509e-01,\n",
       "         2.19265974e+00,  3.30323318e+00,  8.67812273e+00,\n",
       "         3.70101385e+00,  2.72587560e+00,  2.87550450e+00,\n",
       "         3.22735805e+00,  4.96259913e+00, -3.59157166e+00],\n",
       "       [ 7.39757932e-01,  7.74142108e+00, -2.81733561e+00,\n",
       "         4.48862030e+00,  6.03745548e+00, -5.49685905e-01,\n",
       "         6.93842138e-01, -4.47041671e-01, -2.94355998e+00,\n",
       "        -4.04755756e+00,  9.72574489e+00, -3.88754930e+00,\n",
       "        -1.13249276e+00,  4.56364331e+00,  6.34899592e+00,\n",
       "        -9.82025378e-01,  9.72538466e-01, -9.61043877e+00,\n",
       "         2.07279783e+00,  1.65805117e+00,  2.01415808e+00,\n",
       "         9.84939169e+00, -2.18749399e+00,  5.44102234e+00,\n",
       "         3.39667452e+00, -3.34117216e+00,  1.69012634e+00,\n",
       "         1.13877367e+01,  4.84971595e+00,  7.26203368e+00],\n",
       "       [-1.07414868e+00, -8.56102785e-01,  9.71238761e+00,\n",
       "        -2.94599993e-01,  1.58136494e-01, -4.72299714e+00,\n",
       "         7.61161106e+00,  1.39833240e+01, -1.19467869e+00,\n",
       "         1.83472093e+00,  5.46942747e-01,  4.26412505e+00,\n",
       "         2.39286468e+00,  1.23225683e+01, -1.16645879e+00,\n",
       "         1.09012735e+01,  6.03310777e+00,  6.15043144e+00,\n",
       "         6.65779291e-01, -1.41355528e+00, -3.16868515e+00,\n",
       "        -4.08548021e+00,  2.61239695e-01,  3.39825705e+00,\n",
       "        -2.50346308e+00,  5.95067410e+00, -3.49164346e+00,\n",
       "        -8.04305919e+00, -2.99153408e+00, -4.76525980e+00],\n",
       "       [ 1.38935522e+01,  8.82439526e+00,  9.37028557e-01,\n",
       "         2.81913125e-01,  7.10597098e+00,  3.48070526e-01,\n",
       "         3.88675019e+00, -2.89443951e+00, -6.50404053e+00,\n",
       "         7.13592428e+00,  4.77899302e+00,  2.42116310e+00,\n",
       "         1.30284379e+01,  6.50260117e+00,  1.40440342e+01,\n",
       "         2.30264928e+00, -2.25820118e+00,  4.55971857e+00,\n",
       "         5.82370468e-01, -7.10163170e+00,  1.33776445e+00,\n",
       "        -1.51809744e+00,  5.78564607e+00,  8.20732321e-01,\n",
       "        -2.86170143e+00, -4.01154060e-01,  1.14449054e+01,\n",
       "        -1.23567256e+00,  8.32177780e+00,  7.09923203e+00]])"
      ]
     },
     "execution_count": 86,
     "metadata": {},
     "output_type": "execute_result"
    }
   ],
   "source": [
    "nrow = 30\n",
    "ncol = 30\n",
    "arr = np.random.normal(3,5,(nrow,ncol))\n",
    "arr"
   ]
  },
  {
   "cell_type": "code",
   "execution_count": 87,
   "metadata": {},
   "outputs": [
    {
     "data": {
      "text/plain": [
       "3.0959808301545797"
      ]
     },
     "execution_count": 87,
     "metadata": {},
     "output_type": "execute_result"
    }
   ],
   "source": [
    "mysum = 0\n",
    "for i in range(nrow):\n",
    "    for j in range(ncol):\n",
    "        mysum += arr[i,j]\n",
    "mysum/(nrow*ncol)"
   ]
  },
  {
   "cell_type": "code",
   "execution_count": 88,
   "metadata": {},
   "outputs": [
    {
     "data": {
      "text/plain": [
       "3.0959808301545815"
      ]
     },
     "execution_count": 88,
     "metadata": {},
     "output_type": "execute_result"
    }
   ],
   "source": [
    "arr.mean()"
   ]
  },
  {
   "cell_type": "code",
   "execution_count": null,
   "metadata": {},
   "outputs": [],
   "source": []
  }
 ],
 "metadata": {
  "kernelspec": {
   "display_name": "Python 3.6",
   "language": "python",
   "name": "python36"
  },
  "language_info": {
   "codemirror_mode": {
    "name": "ipython",
    "version": 3
   },
   "file_extension": ".py",
   "mimetype": "text/x-python",
   "name": "python",
   "nbconvert_exporter": "python",
   "pygments_lexer": "ipython3",
   "version": "3.6.3"
  }
 },
 "nbformat": 4,
 "nbformat_minor": 2
}
