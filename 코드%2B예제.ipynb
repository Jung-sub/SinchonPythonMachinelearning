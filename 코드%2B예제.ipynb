{
 "cells": [
  {
   "cell_type": "code",
   "execution_count": 1,
   "metadata": {},
   "outputs": [
    {
     "name": "stdout",
     "output_type": "stream",
     "text": [
      "5\n",
      "[2, 4, 6, 8, 10]\n"
     ]
    },
    {
     "data": {
      "text/plain": [
       "[1, 4, 3, 16, 5]"
      ]
     },
     "execution_count": 1,
     "metadata": {},
     "output_type": "execute_result"
    }
   ],
   "source": [
    "def f(x,y):\n",
    "    return x+y\n",
    "\n",
    "print (f(1,4))\n",
    "\n",
    "ex = [1,2,3,4,5]\n",
    "f = lambda x,y: x+y\n",
    "print(list(map(f,ex,ex)))\n",
    "\n"
   ]
  },
  {
   "cell_type": "code",
   "execution_count": 2,
   "metadata": {},
   "outputs": [
    {
     "data": {
      "text/plain": [
       "[1, 4, 3, 16, 5]"
      ]
     },
     "execution_count": 2,
     "metadata": {},
     "output_type": "execute_result"
    }
   ],
   "source": [
    "list(map(lambda x: x**2 if x%2 ==0 else x, ex))\n",
    "\n",
    "[(lambda x: x**2 if x%2 == 0 else x)(x) for x in ex ]\n",
    "\n",
    "[x**2 if x%2 ==0 else x for x in ex]"
   ]
  },
  {
   "cell_type": "code",
   "execution_count": 3,
   "metadata": {},
   "outputs": [
    {
     "name": "stdout",
     "output_type": "stream",
     "text": [
      "<map object at 0x7eff3e8522b0>\n",
      "1\n",
      "4\n",
      "9\n",
      "16\n",
      "25\n"
     ]
    }
   ],
   "source": [
    "f = lambda x: x**2\n",
    "print(map(f,ex))\n",
    "for i in map(f,ex):\n",
    "    print(i)\n"
   ]
  },
  {
   "cell_type": "code",
   "execution_count": 4,
   "metadata": {},
   "outputs": [
    {
     "name": "stdout",
     "output_type": "stream",
     "text": [
      "15\n",
      "1\n"
     ]
    }
   ],
   "source": [
    "from functools import reduce\n",
    "print(reduce(lambda x,y: x+y, [1,2,3,4,5]))\n",
    "\n",
    "a = [74,20,1,43,6]\n",
    "print(reduce(lambda x,y: y if x>y else x, a ))\n"
   ]
  },
  {
   "cell_type": "code",
   "execution_count": 5,
   "metadata": {},
   "outputs": [
    {
     "name": "stdout",
     "output_type": "stream",
     "text": [
      "1\n"
     ]
    }
   ],
   "source": [
    "def get_min(my_list):\n",
    "    min = my_list[0]\n",
    "    \n",
    "    for num in my_list:\n",
    "        if min> num:\n",
    "            min = num\n",
    "        else:\n",
    "            min\n",
    "        \n",
    "    return min\n",
    "\n",
    "min_number = get_min(a)\n",
    "print(min_number)"
   ]
  },
  {
   "cell_type": "code",
   "execution_count": 6,
   "metadata": {},
   "outputs": [
    {
     "name": "stdout",
     "output_type": "stream",
     "text": [
      "120\n"
     ]
    },
    {
     "data": {
      "text/plain": [
       "120"
      ]
     },
     "execution_count": 6,
     "metadata": {},
     "output_type": "execute_result"
    }
   ],
   "source": [
    "print(reduce(lambda x, y: x*y, [a+1 for a in range(5)]))\n",
    "reduce(lambda x, y: x*y, range(1,6))\n",
    "\n"
   ]
  },
  {
   "cell_type": "code",
   "execution_count": 7,
   "metadata": {},
   "outputs": [
    {
     "data": {
      "text/plain": [
       "120"
      ]
     },
     "execution_count": 7,
     "metadata": {},
     "output_type": "execute_result"
    }
   ],
   "source": [
    "def factorial(n):\n",
    "    return reduce(\n",
    "            lambda x, y: x*y, range(1, n+1))\n",
    "factorial(5)"
   ]
  },
  {
   "cell_type": "code",
   "execution_count": 8,
   "metadata": {},
   "outputs": [
    {
     "name": "stdout",
     "output_type": "stream",
     "text": [
      "[(2, 2, 3), (2, 3, 5)]\n"
     ]
    }
   ],
   "source": [
    "u = [2, 2]\n",
    "v = [2, 3]\n",
    "z = [3, 5]\n",
    "\n",
    "result = [t for t in zip(u, v, z)]\n",
    "print (result)\n"
   ]
  },
  {
   "cell_type": "code",
   "execution_count": 9,
   "metadata": {},
   "outputs": [
    {
     "name": "stdout",
     "output_type": "stream",
     "text": [
      "[10, 12, 14]\n"
     ]
    }
   ],
   "source": [
    "u = [1, 2, 3]\n",
    "v = [4, 4, 4]\n",
    "alpha = 2\n",
    "result = [2*sum(t) for t in zip(u, v)]\n",
    "print(result)"
   ]
  },
  {
   "cell_type": "code",
   "execution_count": 10,
   "metadata": {},
   "outputs": [
    {
     "name": "stdout",
     "output_type": "stream",
     "text": [
      "1 (2, 3, 4, 5, 6)\n",
      "<class 'tuple'>\n"
     ]
    }
   ],
   "source": [
    "def asterisk_test(a, *args):\n",
    "    print(a, args)\n",
    "    print(type(args))\n",
    "\n",
    "asterisk_test(1,2,3,4,5,6)\n"
   ]
  },
  {
   "cell_type": "code",
   "execution_count": 11,
   "metadata": {},
   "outputs": [
    {
     "name": "stdout",
     "output_type": "stream",
     "text": [
      "1 {'b': 2, 'c': 3, 'd': 4, 'e': 5, 'f': 6}\n",
      "<class 'dict'>\n"
     ]
    }
   ],
   "source": [
    "def asterisk_test(a, **kargs):\n",
    "    print(a, kargs)\n",
    "    print(type(kargs))\n",
    "\n",
    "asterisk_test(1, b=2, c=3, d=4, e=5, f=6)"
   ]
  },
  {
   "cell_type": "code",
   "execution_count": 12,
   "metadata": {},
   "outputs": [
    {
     "name": "stdout",
     "output_type": "stream",
     "text": [
      "1 (2, 3, 4, 5, 6)\n",
      "<class 'tuple'>\n",
      "((2, 3, 4, 5, 6),)\n",
      "1 2 3 4 5 6\n",
      "<class 'tuple'>\n",
      "(2, 3, 4, 5, 6)\n"
     ]
    }
   ],
   "source": [
    "def asterisk_test(a, *args):\n",
    "    print(a, args[0])\n",
    "    print(type(args))\n",
    "\n",
    "    print(args)\n",
    "\n",
    "asterisk_test(1, (2, 3, 4, 5, 6))\n",
    "\n",
    "\n",
    "def asterisk_test(a, args):\n",
    "    print(a, *args)\n",
    "    print(type(args))\n",
    "\n",
    "    print(args)\n",
    "asterisk_test(1, (2,3,4,5,6))"
   ]
  },
  {
   "cell_type": "code",
   "execution_count": 13,
   "metadata": {},
   "outputs": [
    {
     "name": "stdout",
     "output_type": "stream",
     "text": [
      "[1, 2] [3, 4] [5, 6]\n",
      "[1, 2] [3, 4] [5, 6]\n",
      "9\n",
      "12\n"
     ]
    }
   ],
   "source": [
    "a, b, c = ([1, 2], [3, 4], [5, 6])\n",
    "print(a, b, c)\n",
    "\n",
    "data = ([1, 2], [3, 4], [5, 6])\n",
    "print(*data)\n",
    "\n",
    "for data in zip(*([1, 2], [3, 4], [5, 6])):\n",
    "    print(sum(data))\n"
   ]
  },
  {
   "cell_type": "code",
   "execution_count": 14,
   "metadata": {},
   "outputs": [
    {
     "name": "stdout",
     "output_type": "stream",
     "text": [
      "10 3 2 1 56\n"
     ]
    }
   ],
   "source": [
    "def asterisk_test(a, b, c, d, e=0):\n",
    "    print(a, b, c, d, e)\n",
    "\n",
    "\n",
    "data = {\"d\":1 , \"c\":2, \"b\":3, \"e\":56}\n",
    "asterisk_test(10, **data)"
   ]
  },
  {
   "cell_type": "code",
   "execution_count": 15,
   "metadata": {},
   "outputs": [
    {
     "name": "stdout",
     "output_type": "stream",
     "text": [
      "286 µs ± 21 µs per loop (mean ± std. dev. of 7 runs, 1000 loops each)\n"
     ]
    }
   ],
   "source": [
    "def sclar_vector_product(scalar, vector):\n",
    "    result = []\n",
    "    for value in vector:\n",
    "        result.append(scalar * value)\n",
    "    return result \n",
    "\n",
    "iternation_max = 1000\n",
    "\n",
    "vector = list(range(iternation_max))\n",
    "scalar = 2\n",
    "\n",
    "%timeit sclar_vector_product(scalar, vector) # for loop을 이용한 성능"
   ]
  },
  {
   "cell_type": "code",
   "execution_count": 16,
   "metadata": {},
   "outputs": [
    {
     "name": "stdout",
     "output_type": "stream",
     "text": [
      "215 µs ± 29 µs per loop (mean ± std. dev. of 7 runs, 10000 loops each)\n",
      "11.4 µs ± 1.06 µs per loop (mean ± std. dev. of 7 runs, 100000 loops each)\n"
     ]
    }
   ],
   "source": [
    "import numpy as np\n",
    "\n",
    "%timeit [scalar * value for value in range(iternation_max)] # list comprehension을 이용한 성능\n",
    "%timeit np.arange(iternation_max) * scalar # numpy를 이용한 성능"
   ]
  },
  {
   "cell_type": "code",
   "execution_count": 17,
   "metadata": {},
   "outputs": [
    {
     "name": "stdout",
     "output_type": "stream",
     "text": [
      "35\n",
      "35\n",
      "None\n",
      "28\n",
      "42\n",
      "None\n",
      "35\n",
      "35\n"
     ]
    }
   ],
   "source": [
    "def a_rectangle_area(): # 인자 x, 리턴 값 x\n",
    "    print (5 * 7)\n",
    "def b_rectangle_area(x,y): # 인자 o, 리턴 값 x\n",
    "    print (x * y)\n",
    "def c_rectangle_area(): # 인자 x, 리턴 값 o\n",
    "    return (5 * 7)\n",
    "def d_rectangle_area(x,y): # 인자 o, 리턴 값 o\n",
    "    return (x * y)\n",
    "\n",
    "a_rectangle_area()\n",
    "print(a_rectangle_area())\n",
    "\n",
    "\n",
    "b_rectangle_area(4,7)\n",
    "\n",
    "print(b_rectangle_area(6,7))\n",
    "\n",
    "c_rectangle_area()\n",
    "\n",
    "print(c_rectangle_area())\n",
    "\n",
    "d_rectangle_area(5,7)\n",
    "\n",
    "print(d_rectangle_area(5,7))"
   ]
  },
  {
   "cell_type": "code",
   "execution_count": 18,
   "metadata": {},
   "outputs": [
    {
     "name": "stdout",
     "output_type": "stream",
     "text": [
      "(3, 4, 5)\n",
      "(3, 4, [5, 10, 20])\n"
     ]
    }
   ],
   "source": [
    "def asterisk_test_2(*args):\n",
    "    x,y,z = args\n",
    "    return x,y,z\n",
    "\n",
    "print(asterisk_test_2(3,4,5))\n",
    "\n",
    "def asterisk_test_2(*args):\n",
    "    x,y,*z = args\n",
    "    return x,y,z\n",
    "\n",
    "print(asterisk_test_2(3,4,5,10,20))"
   ]
  },
  {
   "cell_type": "code",
   "execution_count": 19,
   "metadata": {},
   "outputs": [
    {
     "name": "stdout",
     "output_type": "stream",
     "text": [
      "3\n",
      "42\n",
      "{'first': 3, 'second': 4, 'third': 5}\n"
     ]
    }
   ],
   "source": [
    "def kwargs_test_2(**kwargs):\n",
    "    print(kwargs[\"first\"])\n",
    "    \n",
    "kwargs_test_2(first=3,second=4, thrid=5)\n",
    "\n",
    "def kwargs_test_3(one,two, *args, **kwargs):\n",
    "    print(one+two+sum(args))\n",
    "    print(kwargs)\n",
    "    \n",
    "kwargs_test_3(3,4,5,6,7,8,9, first= 3, second=4, third=5)"
   ]
  },
  {
   "cell_type": "code",
   "execution_count": 20,
   "metadata": {},
   "outputs": [
    {
     "data": {
      "text/plain": [
       "[['AD', 'BD', 'CD'], ['AE', 'BE', 'CE'], ['AA', 'BA', 'CA']]"
      ]
     },
     "execution_count": 20,
     "metadata": {},
     "output_type": "execute_result"
    }
   ],
   "source": [
    "case_1 = [\"A\",\"B\",\"C\"]\n",
    "case_2 = [\"D\",\"E\",\"A\"]\n",
    "result = [ [i+j for i in case_1] for j in case_2]\n",
    "result"
   ]
  },
  {
   "cell_type": "code",
   "execution_count": 21,
   "metadata": {},
   "outputs": [
    {
     "name": "stdout",
     "output_type": "stream",
     "text": [
      "[[5, 8], [5, 6]]\n"
     ]
    }
   ],
   "source": [
    "matrix_a = [[1, 1, 2], [2, 1, 1]]\n",
    "matrix_b = [[1, 1], [2, 1], [1, 3]]\n",
    "result = [[sum(a * b for a, b in zip(row_a, column_b)) \n",
    "for column_b in zip(*matrix_b)] for row_a in matrix_a]\n",
    "\n",
    "print(result)"
   ]
  },
  {
   "cell_type": "code",
   "execution_count": 22,
   "metadata": {},
   "outputs": [
    {
     "name": "stdout",
     "output_type": "stream",
     "text": [
      "True\n"
     ]
    }
   ],
   "source": [
    "def vector_size_check(*vector_variables):\n",
    "    return all(len(vector_variables[0]) == x\n",
    "                for x in [len(vector) for vector in vector_variables[1:]])\n",
    "\n",
    "print(vector_size_check([1,2,3],[2,3,4],[5,6,7],[1,4,5]))"
   ]
  },
  {
   "cell_type": "code",
   "execution_count": 23,
   "metadata": {},
   "outputs": [
    {
     "name": "stdout",
     "output_type": "stream",
     "text": [
      "[9, 14]\n",
      "[15, 16]\n"
     ]
    },
    {
     "ename": "ArithmeticError",
     "evalue": "",
     "output_type": "error",
     "traceback": [
      "\u001b[0;31m---------------------------------------------------------------------------\u001b[0m",
      "\u001b[0;31mArithmeticError\u001b[0m                           Traceback (most recent call last)",
      "\u001b[0;32m<ipython-input-23-0653ed80cf6d>\u001b[0m in \u001b[0;36m<module>\u001b[0;34m()\u001b[0m\n\u001b[1;32m      6\u001b[0m \u001b[0mprint\u001b[0m\u001b[0;34m(\u001b[0m\u001b[0mvector_addition\u001b[0m\u001b[0;34m(\u001b[0m\u001b[0;34m[\u001b[0m\u001b[0;36m1\u001b[0m\u001b[0;34m,\u001b[0m\u001b[0;36m3\u001b[0m\u001b[0;34m]\u001b[0m\u001b[0;34m,\u001b[0m\u001b[0;34m[\u001b[0m\u001b[0;36m2\u001b[0m\u001b[0;34m,\u001b[0m\u001b[0;36m4\u001b[0m\u001b[0;34m]\u001b[0m\u001b[0;34m,\u001b[0m\u001b[0;34m[\u001b[0m\u001b[0;36m6\u001b[0m\u001b[0;34m,\u001b[0m\u001b[0;36m7\u001b[0m\u001b[0;34m]\u001b[0m\u001b[0;34m)\u001b[0m\u001b[0;34m)\u001b[0m\u001b[0;34m\u001b[0m\u001b[0m\n\u001b[1;32m      7\u001b[0m \u001b[0mprint\u001b[0m\u001b[0;34m(\u001b[0m\u001b[0mvector_addition\u001b[0m\u001b[0;34m(\u001b[0m\u001b[0;34m[\u001b[0m\u001b[0;36m1\u001b[0m\u001b[0;34m,\u001b[0m\u001b[0;36m5\u001b[0m\u001b[0;34m]\u001b[0m\u001b[0;34m,\u001b[0m\u001b[0;34m[\u001b[0m\u001b[0;36m10\u001b[0m\u001b[0;34m,\u001b[0m\u001b[0;36m4\u001b[0m\u001b[0;34m]\u001b[0m\u001b[0;34m,\u001b[0m\u001b[0;34m[\u001b[0m\u001b[0;36m4\u001b[0m\u001b[0;34m,\u001b[0m\u001b[0;36m7\u001b[0m\u001b[0;34m]\u001b[0m\u001b[0;34m)\u001b[0m\u001b[0;34m)\u001b[0m\u001b[0;34m\u001b[0m\u001b[0m\n\u001b[0;32m----> 8\u001b[0;31m \u001b[0mprint\u001b[0m\u001b[0;34m(\u001b[0m\u001b[0mvector_addition\u001b[0m\u001b[0;34m(\u001b[0m\u001b[0;34m[\u001b[0m\u001b[0;36m1\u001b[0m\u001b[0;34m,\u001b[0m\u001b[0;36m3\u001b[0m\u001b[0;34m,\u001b[0m\u001b[0;36m4\u001b[0m\u001b[0;34m]\u001b[0m\u001b[0;34m,\u001b[0m\u001b[0;34m[\u001b[0m\u001b[0;36m4\u001b[0m\u001b[0;34m]\u001b[0m\u001b[0;34m,\u001b[0m\u001b[0;34m[\u001b[0m\u001b[0;36m6\u001b[0m\u001b[0;34m,\u001b[0m\u001b[0;36m7\u001b[0m\u001b[0;34m]\u001b[0m\u001b[0;34m)\u001b[0m\u001b[0;34m)\u001b[0m \u001b[0;31m#Expected value:ArithmeticError\u001b[0m\u001b[0;34m\u001b[0m\u001b[0m\n\u001b[0m",
      "\u001b[0;32m<ipython-input-23-0653ed80cf6d>\u001b[0m in \u001b[0;36mvector_addition\u001b[0;34m(*vector_variables)\u001b[0m\n\u001b[1;32m      1\u001b[0m \u001b[0;32mdef\u001b[0m \u001b[0mvector_addition\u001b[0m\u001b[0;34m(\u001b[0m\u001b[0;34m*\u001b[0m\u001b[0mvector_variables\u001b[0m\u001b[0;34m)\u001b[0m\u001b[0;34m:\u001b[0m\u001b[0;34m\u001b[0m\u001b[0m\n\u001b[1;32m      2\u001b[0m     \u001b[0;32mif\u001b[0m \u001b[0mvector_size_check\u001b[0m\u001b[0;34m(\u001b[0m\u001b[0;34m*\u001b[0m\u001b[0mvector_variables\u001b[0m\u001b[0;34m)\u001b[0m \u001b[0;34m==\u001b[0m \u001b[0;32mFalse\u001b[0m\u001b[0;34m:\u001b[0m\u001b[0;34m\u001b[0m\u001b[0m\n\u001b[0;32m----> 3\u001b[0;31m          \u001b[0;32mraise\u001b[0m \u001b[0mArithmeticError\u001b[0m\u001b[0;34m\u001b[0m\u001b[0m\n\u001b[0m\u001b[1;32m      4\u001b[0m     \u001b[0;32mreturn\u001b[0m \u001b[0;34m[\u001b[0m\u001b[0msum\u001b[0m\u001b[0;34m(\u001b[0m\u001b[0melements\u001b[0m\u001b[0;34m)\u001b[0m \u001b[0;32mfor\u001b[0m \u001b[0melements\u001b[0m \u001b[0;32min\u001b[0m \u001b[0mzip\u001b[0m\u001b[0;34m(\u001b[0m\u001b[0;34m*\u001b[0m\u001b[0mvector_variables\u001b[0m\u001b[0;34m)\u001b[0m\u001b[0;34m]\u001b[0m\u001b[0;34m\u001b[0m\u001b[0m\n\u001b[1;32m      5\u001b[0m \u001b[0;34m\u001b[0m\u001b[0m\n",
      "\u001b[0;31mArithmeticError\u001b[0m: "
     ]
    }
   ],
   "source": [
    "def vector_addition(*vector_variables):\n",
    "    if vector_size_check(*vector_variables) == False:\n",
    "         raise ArithmeticError\n",
    "    return [sum(elements) for elements in zip(*vector_variables)]\n",
    "\n",
    "print(vector_addition([1,3],[2,4],[6,7]))\n",
    "print(vector_addition([1,5],[10,4],[4,7]))\n",
    "print(vector_addition([1,3,4],[4],[6,7])) #Expected value:ArithmeticError\n"
   ]
  },
  {
   "cell_type": "code",
   "execution_count": 24,
   "metadata": {},
   "outputs": [
    {
     "name": "stdout",
     "output_type": "stream",
     "text": [
      "[-5, -4]\n",
      "[-1, -1, -1]\n"
     ]
    },
    {
     "ename": "ArithmeticError",
     "evalue": "",
     "output_type": "error",
     "traceback": [
      "\u001b[0;31m---------------------------------------------------------------------------\u001b[0m",
      "\u001b[0;31mArithmeticError\u001b[0m                           Traceback (most recent call last)",
      "\u001b[0;32m<ipython-input-24-232d17572633>\u001b[0m in \u001b[0;36m<module>\u001b[0;34m()\u001b[0m\n\u001b[1;32m      7\u001b[0m \u001b[0mprint\u001b[0m\u001b[0;34m(\u001b[0m\u001b[0mvector_subtraction\u001b[0m\u001b[0;34m(\u001b[0m\u001b[0;34m[\u001b[0m\u001b[0;36m1\u001b[0m\u001b[0;34m,\u001b[0m\u001b[0;36m3\u001b[0m\u001b[0;34m]\u001b[0m\u001b[0;34m,\u001b[0m\u001b[0;34m[\u001b[0m\u001b[0;36m6\u001b[0m\u001b[0;34m,\u001b[0m\u001b[0;36m7\u001b[0m\u001b[0;34m]\u001b[0m\u001b[0;34m)\u001b[0m\u001b[0;34m)\u001b[0m\u001b[0;34m\u001b[0m\u001b[0m\n\u001b[1;32m      8\u001b[0m \u001b[0mprint\u001b[0m\u001b[0;34m(\u001b[0m\u001b[0mvector_subtraction\u001b[0m\u001b[0;34m(\u001b[0m\u001b[0;34m[\u001b[0m\u001b[0;36m1\u001b[0m\u001b[0;34m,\u001b[0m\u001b[0;36m2\u001b[0m\u001b[0;34m,\u001b[0m\u001b[0;36m3\u001b[0m\u001b[0;34m]\u001b[0m\u001b[0;34m,\u001b[0m\u001b[0;34m[\u001b[0m\u001b[0;36m2\u001b[0m\u001b[0;34m,\u001b[0m\u001b[0;36m3\u001b[0m\u001b[0;34m,\u001b[0m\u001b[0;36m4\u001b[0m\u001b[0;34m]\u001b[0m\u001b[0;34m)\u001b[0m\u001b[0;34m)\u001b[0m\u001b[0;34m\u001b[0m\u001b[0m\n\u001b[0;32m----> 9\u001b[0;31m \u001b[0mprint\u001b[0m\u001b[0;34m(\u001b[0m\u001b[0mvector_subtraction\u001b[0m\u001b[0;34m(\u001b[0m\u001b[0;34m[\u001b[0m\u001b[0;36m1\u001b[0m\u001b[0;34m,\u001b[0m\u001b[0;36m3\u001b[0m\u001b[0;34m,\u001b[0m\u001b[0;36m4\u001b[0m\u001b[0;34m]\u001b[0m\u001b[0;34m,\u001b[0m\u001b[0;34m[\u001b[0m\u001b[0;36m6\u001b[0m\u001b[0;34m,\u001b[0m\u001b[0;36m7\u001b[0m\u001b[0;34m]\u001b[0m\u001b[0;34m)\u001b[0m\u001b[0;34m)\u001b[0m \u001b[0;31m#Expected value:ArithmeticError\u001b[0m\u001b[0;34m\u001b[0m\u001b[0m\n\u001b[0m",
      "\u001b[0;32m<ipython-input-24-232d17572633>\u001b[0m in \u001b[0;36mvector_subtraction\u001b[0;34m(*vector_variables)\u001b[0m\n\u001b[1;32m      1\u001b[0m \u001b[0;32mdef\u001b[0m \u001b[0mvector_subtraction\u001b[0m\u001b[0;34m(\u001b[0m\u001b[0;34m*\u001b[0m\u001b[0mvector_variables\u001b[0m\u001b[0;34m)\u001b[0m\u001b[0;34m:\u001b[0m\u001b[0;34m\u001b[0m\u001b[0m\n\u001b[1;32m      2\u001b[0m     \u001b[0;32mif\u001b[0m \u001b[0mvector_size_check\u001b[0m\u001b[0;34m(\u001b[0m\u001b[0;34m*\u001b[0m\u001b[0mvector_variables\u001b[0m\u001b[0;34m)\u001b[0m \u001b[0;34m==\u001b[0m \u001b[0;32mFalse\u001b[0m\u001b[0;34m:\u001b[0m\u001b[0;34m\u001b[0m\u001b[0m\n\u001b[0;32m----> 3\u001b[0;31m         \u001b[0;32mraise\u001b[0m \u001b[0mArithmeticError\u001b[0m\u001b[0;34m\u001b[0m\u001b[0m\n\u001b[0m\u001b[1;32m      4\u001b[0m     return [elements[0]*2 - sum(elements)\n\u001b[1;32m      5\u001b[0m            for elements in zip(*vector_variables)]\n",
      "\u001b[0;31mArithmeticError\u001b[0m: "
     ]
    }
   ],
   "source": [
    "def vector_subtraction(*vector_variables):\n",
    "    if vector_size_check(*vector_variables) == False:\n",
    "        raise ArithmeticError\n",
    "    return [elements[0]*2 - sum(elements)\n",
    "           for elements in zip(*vector_variables)]\n",
    "            \n",
    "print(vector_subtraction([1,3],[6,7]))\n",
    "print(vector_subtraction([1,2,3],[2,3,4]))\n",
    "print(vector_subtraction([1,3,4],[6,7])) #Expected value:ArithmeticError"
   ]
  },
  {
   "cell_type": "code",
   "execution_count": 25,
   "metadata": {},
   "outputs": [
    {
     "name": "stdout",
     "output_type": "stream",
     "text": [
      "[5, 10, 15]\n",
      "[6, 6]\n"
     ]
    }
   ],
   "source": [
    "def scalar_vector_product(alpha, vector_variable):\n",
    "    return [alpha*element for element in vector_variable]\n",
    "\n",
    "print(scalar_vector_product(5,[1,2,3]))\n",
    "print(scalar_vector_product(3,[2,2]))"
   ]
  },
  {
   "cell_type": "code",
   "execution_count": null,
   "metadata": {},
   "outputs": [],
   "source": []
  }
 ],
 "metadata": {
  "kernelspec": {
   "display_name": "Python 3.6",
   "language": "python",
   "name": "python36"
  },
  "language_info": {
   "codemirror_mode": {
    "name": "ipython",
    "version": 3
   },
   "file_extension": ".py",
   "mimetype": "text/x-python",
   "name": "python",
   "nbconvert_exporter": "python",
   "pygments_lexer": "ipython3",
   "version": "3.6.3"
  }
 },
 "nbformat": 4,
 "nbformat_minor": 2
}
