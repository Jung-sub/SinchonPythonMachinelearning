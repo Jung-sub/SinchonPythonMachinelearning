{
 "cells": [
  {
   "cell_type": "markdown",
   "metadata": {},
   "source": [
    "Santa Gift Matching Challenge\n",
    "-------------------------------------------"
   ]
  },
  {
   "cell_type": "markdown",
   "metadata": {},
   "source": [
    "1,000,000명의 아이가 있고, 각각 아이들이 받고 싶어하는 100가지 종류의 선물 리스트가 있다.\n",
    "내가 가지고 있는 선물은 총 1000종류이고 1000명의 '착한' 아이가 있다.\n",
    "\n",
    "내 목표는 1,000,000명의 모든 아이들에게 알맞는 선물을 주어서 모두가 만족하게 하는 것이다. 즉, 선물은 주는 나(산타)와 아이들 모두가 만족해야 한다. 아이들은 그들의 wish list에 있는 선물들 중에서 가장 높은 순위를 가진 선물을 가질 수록 행복하고, 산타는 아이가 '착한 아이' 리스트에 높은 순위에 있을 수록 행복하다.\n",
    "\n",
    "#### 몇 가지 주의사항들이 있다.\n",
    "1. 전체 아이들의 5%는 세쌍둥이이다. 0,1,2 ~ 4998, 4999, 5000는 세쌍둥이이다. 세쌍둥이는 그들이 서로 다른 선호도를 지녔을지라도 같은 선물을 주어야 한다.\n",
    "2. 전체 아이들의 4%는 쌍둥이이다. 5000, 5001 ~ 44999, 45000는 쌍둥이이다. 쌍둥이는 그들이 서로 다른 선호도를 지녔을지라도 같은 선물을 주어야 한다.\n",
    "3. 각 선물은 1000개를 줄 수 있다. 즉 1000(선물의 종류)*1000(각 선물의 양)=1,000,000(선물을 주어야 될 아이의 수, 줄 수 있는 선물은 1000개를 넘길 수 없다.\n",
    "4. Average Normalized Happiness에 결과값을 저장한다."
   ]
  },
  {
   "cell_type": "code",
   "execution_count": 1,
   "metadata": {},
   "outputs": [],
   "source": [
    "import pandas as pd\n",
    "import numpy as np\n",
    "from collections import Counter\n",
    "import operator\n",
    "import math"
   ]
  },
  {
   "cell_type": "code",
   "execution_count": 2,
   "metadata": {},
   "outputs": [],
   "source": [
    "INPUT_PATH = '../input/'\n",
    "\n",
    "\n",
    "def lcm(a, b):\n",
    "    # math.gcd(a,b) = a와 b의 최대공약수\n",
    "    return a * b // math.gcd(a, b)"
   ]
  },
  {
   "cell_type": "code",
   "execution_count": 3,
   "metadata": {},
   "outputs": [],
   "source": [
    "#gift = gift_goodkids, wisht = child_wishtist, pred = \n",
    "def avg_normalized_happiness(pred, gift, wish):\n",
    "    \n",
    "    n_children = 1000000 # n children to give\n",
    "    n_gift_type = 1000 # n types of gifts available\n",
    "    n_gift_quantity = 1000 # each type of gifts are limited to this quantity\n",
    "    n_gift_pref = 100 # number of gifts a child ranks\n",
    "    n_child_pref = 1000 # number of children a gift ranks\n",
    "    twins = math.ceil(0.04 * n_children / 2.) * 2    # 전체 인구의 4%가 쌍둥이\n",
    "    triplets = math.ceil(0.005 * n_children / 3.) * 3    # 전체 인구의 0.5%가 세쌍둥이\n",
    "    ratio_gift_happiness = 2 #리스트에 있는 아이에게 선물을 주었을 때 받는 happiness\n",
    "    ratio_child_happiness = 2 #리스트에 있는 선물을 받았을 때 받는 happiness\n",
    "\n",
    "    # 1. 세쌍둥이가 같은 선물을 가졌는지 확인\n",
    "    for t1 in np.arange(0, triplets, 3): #0부터 triplets(세 쌍둥이의 수)까지 3씩 증가하는 sequence 생성\n",
    "        triplet1 = pred[t1]\n",
    "        triplet2 = pred[t1+1]\n",
    "        triplet3 = pred[t1+2]\n",
    "        # print(t1, triplet1, triplet2, triplet3)\n",
    "        assert triplet1 == triplet2 and triplet2 == triplet3 #assert condition : condition에 맞지 않으면 error을 반환\n",
    "                \n",
    "    # 2. 쌍둥이가 같은 선물을 가졌는지 확인\n",
    "    for t1 in np.arange(triplets, triplets+twins, 2): #0~5000까지가 세쌍둥이, 5000~45000이 쌍둥이, 위와 같은 방식으로 sequence 생성\n",
    "        twin1 = pred[t1]\n",
    "        twin2 = pred[t1+1]\n",
    "        assert twin1 == twin2\n",
    "\n",
    "    max_child_happiness = n_gift_pref * ratio_child_happiness #아이가 받을 수 있는 최대 행복 = 아이가 선호하는 선물의 수 * child happiness\n",
    "    max_gift_happiness = n_child_pref * ratio_gift_happiness #선물이 줄 수 있는 최대 행복 = 선물이 선호하는 아이의 수 * gift happiness\n",
    "    total_child_happiness = 0\n",
    "    total_gift_happiness = np.zeros(n_gift_type)\n",
    "    \n",
    "    for i in range(len(pred)):\n",
    "        child_id = i\n",
    "        gift_id = pred[i]\n",
    "        \n",
    "        # child_id와 gifr_id가 존재하는지 확인\n",
    "        assert child_id < n_children #아이의 수보다 child_id가 작아야 한다\n",
    "        assert gift_id < n_gift_type #줄 수 있는 선물의 수보다 gift_id가 작아야 한다\n",
    "        assert child_id >= 0  #각각의 id는 0부터 시작이 된다.\n",
    "        assert gift_id >= 0\n",
    "    \n",
    "        #np.where(wish[child_id]==gift_id)[0] = where 조건절을 만족하는 아이가 가장 받고 싶어하는 선물\n",
    "        child_happiness = (n_gift_pref - np.where(wish[child_id]==gift_id)[0]) * ratio_child_happiness\n",
    "        if not child_happiness:\n",
    "            child_happiness = -1\n",
    "\n",
    "        #np.where(gift[gift_id]==child_id[0]) = where 조건절을 만족하는 각 선물을 가장 주고 싶어하는 아이\n",
    "        gift_happiness = ( n_child_pref - np.where(gift[gift_id]==child_id)[0]) * ratio_gift_happiness\n",
    "        if not gift_happiness:\n",
    "            gift_happiness = -1\n",
    "\n",
    "        total_child_happiness += child_happiness\n",
    "        total_gift_happiness[gift_id] += gift_happiness\n",
    "        \n",
    "    denominator1 = n_children*max_child_happiness #모든 아이의 최대 행복치\n",
    "    denominator2 = n_gift_quantity*max_gift_happiness*n_gift_type #모든 선물의 최대 행복치\n",
    "    common_denom = lcm(denominator1, denominator2) #denominator1, denominator2 최소 공배수\n",
    "    multiplier = common_denom / denominator1 \n",
    "\n",
    "    #math.pow(  ) : 거듭제곱함수\n",
    "    ret = float(math.pow(total_child_happiness*multiplier,3) + \\\n",
    "        math.pow(np.sum(total_gift_happiness),3)) / float(math.pow(common_denom,3))\n",
    "    return ret"
   ]
  },
  {
   "cell_type": "code",
   "execution_count": 4,
   "metadata": {},
   "outputs": [],
   "source": [
    "def get_overall_hapiness(wish, gift):\n",
    "\n",
    "\n",
    "    res_child = dict()\n",
    "    for i in range(0, wish.shape[0]):\n",
    "        for j in range(55):\n",
    "            res_child[(i, wish[i][j])] = int(100* (1 + (wish.shape[1] - j)*2))\n",
    "\n",
    "    res_santa = dict()\n",
    "    for i in range(gift.shape[0]):\n",
    "        for j in range(gift.shape[1]):\n",
    "            res_santa[(gift[i][j], i)] = int((1 + (gift.shape[1] - j)*2))\n",
    "\n",
    "    #set( ) : 자료의 집합형.\n",
    "    #res_satna와 res_child의 key의 자료 집합형을 모아 postivie_cases 변수에 저장\n",
    "    positive_cases = list(set(res_santa.keys()) | set(res_child.keys()))\n",
    "    print('Positive case tuples (child, gift): {}'.format(len(positive_cases)))\n",
    "\n",
    "    res = dict()\n",
    "    for p in positive_cases:\n",
    "        res[p] = 0\n",
    "        if p in res_child:\n",
    "            res[p] += res_child[p]\n",
    "        if p in res_santa:\n",
    "            res[p] += res_santa[p]\n",
    "    return res"
   ]
  },
  {
   "cell_type": "code",
   "execution_count": 5,
   "metadata": {},
   "outputs": [],
   "source": [
    "#list에서 키가 아닌 값으로 reversed_sorting\n",
    "def sort_dict_by_values(a, reverse=True):\n",
    "    sorted_x = sorted(a.items(), key=operator.itemgetter(1), reverse=reverse)\n",
    "    return sorted_x\n",
    "\n",
    "\n",
    "def value_counts_for_list(lst):\n",
    "    a = dict(Counter(lst))\n",
    "    a = sort_dict_by_values(a, True)\n",
    "    return a\n",
    "\n",
    "\n",
    "#np.ravel( ) : 다차원인 array를 1차원 배열로 평평하게 펼쳐줌\n",
    "def get_most_desired_gifts(wish, gift):\n",
    "    best_gifts = value_counts_for_list(np.ravel(wish))\n",
    "    return best_gifts\n",
    "\n",
    "\n",
    "def recalc_hapiness(happiness, best_gifts, gift):\n",
    "    recalc = dict()\n",
    "    for b in best_gifts:\n",
    "        recalc[b[0]] = b[1] / 2000000\n",
    "\n",
    "    for h in happiness:\n",
    "        c, g = h\n",
    "        happiness[h] /= recalc[g]\n",
    "        \n",
    "    return happiness"
   ]
  },
  {
   "cell_type": "code",
   "execution_count": 6,
   "metadata": {},
   "outputs": [
    {
     "ename": "FileNotFoundError",
     "evalue": "File b'../input/child_wishlist_v2.csv' does not exist",
     "output_type": "error",
     "traceback": [
      "\u001b[0;31m---------------------------------------------------------------------------\u001b[0m",
      "\u001b[0;31mFileNotFoundError\u001b[0m                         Traceback (most recent call last)",
      "\u001b[0;32m<ipython-input-6-5377f7b27f04>\u001b[0m in \u001b[0;36m<module>\u001b[0;34m()\u001b[0m\n\u001b[1;32m     80\u001b[0m \u001b[0;34m\u001b[0m\u001b[0m\n\u001b[1;32m     81\u001b[0m \u001b[0;32mif\u001b[0m \u001b[0m__name__\u001b[0m \u001b[0;34m==\u001b[0m \u001b[0;34m'__main__'\u001b[0m\u001b[0;34m:\u001b[0m\u001b[0;34m\u001b[0m\u001b[0m\n\u001b[0;32m---> 82\u001b[0;31m     \u001b[0msolve\u001b[0m\u001b[0;34m(\u001b[0m\u001b[0;34m)\u001b[0m\u001b[0;34m\u001b[0m\u001b[0m\n\u001b[0m",
      "\u001b[0;32m<ipython-input-6-5377f7b27f04>\u001b[0m in \u001b[0;36msolve\u001b[0;34m()\u001b[0m\n\u001b[1;32m      1\u001b[0m \u001b[0;32mdef\u001b[0m \u001b[0msolve\u001b[0m\u001b[0;34m(\u001b[0m\u001b[0;34m)\u001b[0m\u001b[0;34m:\u001b[0m\u001b[0;34m\u001b[0m\u001b[0m\n\u001b[0;32m----> 2\u001b[0;31m     \u001b[0mwish\u001b[0m \u001b[0;34m=\u001b[0m \u001b[0mpd\u001b[0m\u001b[0;34m.\u001b[0m\u001b[0mread_csv\u001b[0m\u001b[0;34m(\u001b[0m\u001b[0mINPUT_PATH\u001b[0m \u001b[0;34m+\u001b[0m \u001b[0;34m'child_wishlist_v2.csv'\u001b[0m\u001b[0;34m,\u001b[0m \u001b[0mheader\u001b[0m\u001b[0;34m=\u001b[0m\u001b[0;32mNone\u001b[0m\u001b[0;34m)\u001b[0m\u001b[0;34m.\u001b[0m\u001b[0mas_matrix\u001b[0m\u001b[0;34m(\u001b[0m\u001b[0;34m)\u001b[0m\u001b[0;34m[\u001b[0m\u001b[0;34m:\u001b[0m\u001b[0;34m,\u001b[0m \u001b[0;36m1\u001b[0m\u001b[0;34m:\u001b[0m\u001b[0;34m]\u001b[0m\u001b[0;31m#프레임을 numpy배열 표현으로 변환 반환 값 : ndarray\u001b[0m\u001b[0;34m\u001b[0m\u001b[0m\n\u001b[0m\u001b[1;32m      3\u001b[0m     \u001b[0mgift_init\u001b[0m \u001b[0;34m=\u001b[0m \u001b[0mpd\u001b[0m\u001b[0;34m.\u001b[0m\u001b[0mread_csv\u001b[0m\u001b[0;34m(\u001b[0m\u001b[0mINPUT_PATH\u001b[0m \u001b[0;34m+\u001b[0m \u001b[0;34m'gift_goodkids_v2.csv'\u001b[0m\u001b[0;34m,\u001b[0m \u001b[0mheader\u001b[0m\u001b[0;34m=\u001b[0m\u001b[0;32mNone\u001b[0m\u001b[0;34m)\u001b[0m\u001b[0;34m.\u001b[0m\u001b[0mas_matrix\u001b[0m\u001b[0;34m(\u001b[0m\u001b[0;34m)\u001b[0m\u001b[0;34m[\u001b[0m\u001b[0;34m:\u001b[0m\u001b[0;34m,\u001b[0m \u001b[0;36m1\u001b[0m\u001b[0;34m:\u001b[0m\u001b[0;34m]\u001b[0m\u001b[0;31m#numpy 배열로 변환하지만 인덱스는 유지\u001b[0m\u001b[0;34m\u001b[0m\u001b[0m\n\u001b[1;32m      4\u001b[0m     \u001b[0mgift\u001b[0m \u001b[0;34m=\u001b[0m \u001b[0mgift_init\u001b[0m\u001b[0;34m.\u001b[0m\u001b[0mcopy\u001b[0m\u001b[0;34m(\u001b[0m\u001b[0;34m)\u001b[0m \u001b[0;31m#원본 리스트 요소에 영향을 끼치지 않기 위해서\u001b[0m\u001b[0;34m\u001b[0m\u001b[0m\n\u001b[1;32m      5\u001b[0m     \u001b[0mansw\u001b[0m \u001b[0;34m=\u001b[0m \u001b[0mnp\u001b[0m\u001b[0;34m.\u001b[0m\u001b[0mzeros\u001b[0m\u001b[0;34m(\u001b[0m\u001b[0mlen\u001b[0m\u001b[0;34m(\u001b[0m\u001b[0mwish\u001b[0m\u001b[0;34m)\u001b[0m\u001b[0;34m,\u001b[0m \u001b[0mdtype\u001b[0m\u001b[0;34m=\u001b[0m\u001b[0mnp\u001b[0m\u001b[0;34m.\u001b[0m\u001b[0mint32\u001b[0m\u001b[0;34m)\u001b[0m\u001b[0;34m\u001b[0m\u001b[0m\n",
      "\u001b[0;32m~/anaconda3_420/lib/python3.5/site-packages/pandas/io/parsers.py\u001b[0m in \u001b[0;36mparser_f\u001b[0;34m(filepath_or_buffer, sep, delimiter, header, names, index_col, usecols, squeeze, prefix, mangle_dupe_cols, dtype, engine, converters, true_values, false_values, skipinitialspace, skiprows, nrows, na_values, keep_default_na, na_filter, verbose, skip_blank_lines, parse_dates, infer_datetime_format, keep_date_col, date_parser, dayfirst, iterator, chunksize, compression, thousands, decimal, lineterminator, quotechar, quoting, escapechar, comment, encoding, dialect, tupleize_cols, error_bad_lines, warn_bad_lines, skipfooter, skip_footer, doublequote, delim_whitespace, as_recarray, compact_ints, use_unsigned, low_memory, buffer_lines, memory_map, float_precision)\u001b[0m\n\u001b[1;32m    644\u001b[0m                     skip_blank_lines=skip_blank_lines)\n\u001b[1;32m    645\u001b[0m \u001b[0;34m\u001b[0m\u001b[0m\n\u001b[0;32m--> 646\u001b[0;31m         \u001b[0;32mreturn\u001b[0m \u001b[0m_read\u001b[0m\u001b[0;34m(\u001b[0m\u001b[0mfilepath_or_buffer\u001b[0m\u001b[0;34m,\u001b[0m \u001b[0mkwds\u001b[0m\u001b[0;34m)\u001b[0m\u001b[0;34m\u001b[0m\u001b[0m\n\u001b[0m\u001b[1;32m    647\u001b[0m \u001b[0;34m\u001b[0m\u001b[0m\n\u001b[1;32m    648\u001b[0m     \u001b[0mparser_f\u001b[0m\u001b[0;34m.\u001b[0m\u001b[0m__name__\u001b[0m \u001b[0;34m=\u001b[0m \u001b[0mname\u001b[0m\u001b[0;34m\u001b[0m\u001b[0m\n",
      "\u001b[0;32m~/anaconda3_420/lib/python3.5/site-packages/pandas/io/parsers.py\u001b[0m in \u001b[0;36m_read\u001b[0;34m(filepath_or_buffer, kwds)\u001b[0m\n\u001b[1;32m    387\u001b[0m \u001b[0;34m\u001b[0m\u001b[0m\n\u001b[1;32m    388\u001b[0m     \u001b[0;31m# Create the parser.\u001b[0m\u001b[0;34m\u001b[0m\u001b[0;34m\u001b[0m\u001b[0m\n\u001b[0;32m--> 389\u001b[0;31m     \u001b[0mparser\u001b[0m \u001b[0;34m=\u001b[0m \u001b[0mTextFileReader\u001b[0m\u001b[0;34m(\u001b[0m\u001b[0mfilepath_or_buffer\u001b[0m\u001b[0;34m,\u001b[0m \u001b[0;34m**\u001b[0m\u001b[0mkwds\u001b[0m\u001b[0;34m)\u001b[0m\u001b[0;34m\u001b[0m\u001b[0m\n\u001b[0m\u001b[1;32m    390\u001b[0m \u001b[0;34m\u001b[0m\u001b[0m\n\u001b[1;32m    391\u001b[0m     \u001b[0;32mif\u001b[0m \u001b[0;34m(\u001b[0m\u001b[0mnrows\u001b[0m \u001b[0;32mis\u001b[0m \u001b[0;32mnot\u001b[0m \u001b[0;32mNone\u001b[0m\u001b[0;34m)\u001b[0m \u001b[0;32mand\u001b[0m \u001b[0;34m(\u001b[0m\u001b[0mchunksize\u001b[0m \u001b[0;32mis\u001b[0m \u001b[0;32mnot\u001b[0m \u001b[0;32mNone\u001b[0m\u001b[0;34m)\u001b[0m\u001b[0;34m:\u001b[0m\u001b[0;34m\u001b[0m\u001b[0m\n",
      "\u001b[0;32m~/anaconda3_420/lib/python3.5/site-packages/pandas/io/parsers.py\u001b[0m in \u001b[0;36m__init__\u001b[0;34m(self, f, engine, **kwds)\u001b[0m\n\u001b[1;32m    728\u001b[0m             \u001b[0mself\u001b[0m\u001b[0;34m.\u001b[0m\u001b[0moptions\u001b[0m\u001b[0;34m[\u001b[0m\u001b[0;34m'has_index_names'\u001b[0m\u001b[0;34m]\u001b[0m \u001b[0;34m=\u001b[0m \u001b[0mkwds\u001b[0m\u001b[0;34m[\u001b[0m\u001b[0;34m'has_index_names'\u001b[0m\u001b[0;34m]\u001b[0m\u001b[0;34m\u001b[0m\u001b[0m\n\u001b[1;32m    729\u001b[0m \u001b[0;34m\u001b[0m\u001b[0m\n\u001b[0;32m--> 730\u001b[0;31m         \u001b[0mself\u001b[0m\u001b[0;34m.\u001b[0m\u001b[0m_make_engine\u001b[0m\u001b[0;34m(\u001b[0m\u001b[0mself\u001b[0m\u001b[0;34m.\u001b[0m\u001b[0mengine\u001b[0m\u001b[0;34m)\u001b[0m\u001b[0;34m\u001b[0m\u001b[0m\n\u001b[0m\u001b[1;32m    731\u001b[0m \u001b[0;34m\u001b[0m\u001b[0m\n\u001b[1;32m    732\u001b[0m     \u001b[0;32mdef\u001b[0m \u001b[0mclose\u001b[0m\u001b[0;34m(\u001b[0m\u001b[0mself\u001b[0m\u001b[0;34m)\u001b[0m\u001b[0;34m:\u001b[0m\u001b[0;34m\u001b[0m\u001b[0m\n",
      "\u001b[0;32m~/anaconda3_420/lib/python3.5/site-packages/pandas/io/parsers.py\u001b[0m in \u001b[0;36m_make_engine\u001b[0;34m(self, engine)\u001b[0m\n\u001b[1;32m    921\u001b[0m     \u001b[0;32mdef\u001b[0m \u001b[0m_make_engine\u001b[0m\u001b[0;34m(\u001b[0m\u001b[0mself\u001b[0m\u001b[0;34m,\u001b[0m \u001b[0mengine\u001b[0m\u001b[0;34m=\u001b[0m\u001b[0;34m'c'\u001b[0m\u001b[0;34m)\u001b[0m\u001b[0;34m:\u001b[0m\u001b[0;34m\u001b[0m\u001b[0m\n\u001b[1;32m    922\u001b[0m         \u001b[0;32mif\u001b[0m \u001b[0mengine\u001b[0m \u001b[0;34m==\u001b[0m \u001b[0;34m'c'\u001b[0m\u001b[0;34m:\u001b[0m\u001b[0;34m\u001b[0m\u001b[0m\n\u001b[0;32m--> 923\u001b[0;31m             \u001b[0mself\u001b[0m\u001b[0;34m.\u001b[0m\u001b[0m_engine\u001b[0m \u001b[0;34m=\u001b[0m \u001b[0mCParserWrapper\u001b[0m\u001b[0;34m(\u001b[0m\u001b[0mself\u001b[0m\u001b[0;34m.\u001b[0m\u001b[0mf\u001b[0m\u001b[0;34m,\u001b[0m \u001b[0;34m**\u001b[0m\u001b[0mself\u001b[0m\u001b[0;34m.\u001b[0m\u001b[0moptions\u001b[0m\u001b[0;34m)\u001b[0m\u001b[0;34m\u001b[0m\u001b[0m\n\u001b[0m\u001b[1;32m    924\u001b[0m         \u001b[0;32melse\u001b[0m\u001b[0;34m:\u001b[0m\u001b[0;34m\u001b[0m\u001b[0m\n\u001b[1;32m    925\u001b[0m             \u001b[0;32mif\u001b[0m \u001b[0mengine\u001b[0m \u001b[0;34m==\u001b[0m \u001b[0;34m'python'\u001b[0m\u001b[0;34m:\u001b[0m\u001b[0;34m\u001b[0m\u001b[0m\n",
      "\u001b[0;32m~/anaconda3_420/lib/python3.5/site-packages/pandas/io/parsers.py\u001b[0m in \u001b[0;36m__init__\u001b[0;34m(self, src, **kwds)\u001b[0m\n\u001b[1;32m   1388\u001b[0m         \u001b[0mkwds\u001b[0m\u001b[0;34m[\u001b[0m\u001b[0;34m'allow_leading_cols'\u001b[0m\u001b[0;34m]\u001b[0m \u001b[0;34m=\u001b[0m \u001b[0mself\u001b[0m\u001b[0;34m.\u001b[0m\u001b[0mindex_col\u001b[0m \u001b[0;32mis\u001b[0m \u001b[0;32mnot\u001b[0m \u001b[0;32mFalse\u001b[0m\u001b[0;34m\u001b[0m\u001b[0m\n\u001b[1;32m   1389\u001b[0m \u001b[0;34m\u001b[0m\u001b[0m\n\u001b[0;32m-> 1390\u001b[0;31m         \u001b[0mself\u001b[0m\u001b[0;34m.\u001b[0m\u001b[0m_reader\u001b[0m \u001b[0;34m=\u001b[0m \u001b[0m_parser\u001b[0m\u001b[0;34m.\u001b[0m\u001b[0mTextReader\u001b[0m\u001b[0;34m(\u001b[0m\u001b[0msrc\u001b[0m\u001b[0;34m,\u001b[0m \u001b[0;34m**\u001b[0m\u001b[0mkwds\u001b[0m\u001b[0;34m)\u001b[0m\u001b[0;34m\u001b[0m\u001b[0m\n\u001b[0m\u001b[1;32m   1391\u001b[0m \u001b[0;34m\u001b[0m\u001b[0m\n\u001b[1;32m   1392\u001b[0m         \u001b[0;31m# XXX\u001b[0m\u001b[0;34m\u001b[0m\u001b[0;34m\u001b[0m\u001b[0m\n",
      "\u001b[0;32mpandas/parser.pyx\u001b[0m in \u001b[0;36mpandas.parser.TextReader.__cinit__ (pandas/parser.c:4184)\u001b[0;34m()\u001b[0m\n",
      "\u001b[0;32mpandas/parser.pyx\u001b[0m in \u001b[0;36mpandas.parser.TextReader._setup_parser_source (pandas/parser.c:8449)\u001b[0;34m()\u001b[0m\n",
      "\u001b[0;31mFileNotFoundError\u001b[0m: File b'../input/child_wishlist_v2.csv' does not exist"
     ]
    }
   ],
   "source": [
    "def solve():\n",
    "    wish = pd.read_csv(INPUT_PATH + 'child_wishlist_v2.csv', header=None).as_matrix()[:, 1:]#프레임을 numpy배열 표현으로 변환 반환 값 : ndarray\n",
    "    gift_init = pd.read_csv(INPUT_PATH + 'gift_goodkids_v2.csv', header=None).as_matrix()[:, 1:]#numpy 배열로 변환하지만 인덱스는 유지\n",
    "    gift = gift_init.copy() #원본 리스트 요소에 영향을 끼치지 않기 위해서\n",
    "    answ = np.zeros(len(wish), dtype=np.int32)\n",
    "    answ[:] = -1\n",
    "    gift_count = np.zeros(len(gift), dtype=np.int32)\n",
    "\n",
    "    happiness = get_overall_hapiness(wish, gift)\n",
    "    best_gifts = get_most_desired_gifts(wish, gift)\n",
    "    happiness = recalc_hapiness(happiness, best_gifts, gift)\n",
    "    sorted_hapiness = sort_dict_by_values(happiness)\n",
    "    print('Happiness sorted...')\n",
    "\n",
    "    for i in range(len(sorted_hapiness)):\n",
    "        child = sorted_hapiness[i][0][0]\n",
    "        g = sorted_hapiness[i][0][1]\n",
    "        if answ[child] != -1:\n",
    "            continue\n",
    "        if gift_count[g] >= 1000:\n",
    "            continue\n",
    "        if child <= 5000 and gift_count[g] < 997: # 세쌍둥이의 경우\n",
    "            if child % 3 == 0: #3으로 나눠떨어지면 다 같은 선물\n",
    "                answ[child] = g\n",
    "                answ[child+1] = g\n",
    "                answ[child+2] = g\n",
    "                gift_count[g] += 3 #gift_count가 3 증가\n",
    "            elif child % 3 == 1: #나머지가 1이면 전사람과 다음사람이랑 같은 선물\n",
    "                answ[child] = g\n",
    "                answ[child-1] = g\n",
    "                answ[child+1] = g\n",
    "                gift_count[g] += 3\n",
    "            else:\n",
    "                answ[child] = g\n",
    "                answ[child-1] = g\n",
    "                answ[child-2] = g\n",
    "                gift_count[g] += 3\n",
    "        elif child > 5000 and child <= 45000 and gift_count[g] < 998: #쌍둥이 경우\n",
    "            if child % 2 == 0:\n",
    "                answ[child] = g\n",
    "                answ[child - 1] = g\n",
    "                gift_count[g] += 2\n",
    "            else:\n",
    "                answ[child] = g\n",
    "                answ[child + 1] = g\n",
    "                gift_count[g] += 2\n",
    "        elif child > 45000:\n",
    "            answ[child] = g\n",
    "            gift_count[g] += 1\n",
    "\n",
    "    print('Left unhappy:', len(answ[answ == -1]))\n",
    "    \n",
    "    # unhappy children\n",
    "    for child in range(45001, len(answ)):\n",
    "        if answ[child] == -1:\n",
    "            g = np.argmin(gift_count) # np.argmin\n",
    "            answ[child] = g\n",
    "            gift_count[g] += 1\n",
    "\n",
    "    if answ.min() == -1:\n",
    "        print('Some children without present')\n",
    "        exit()\n",
    "\n",
    "    if gift_count.max() > 1000:\n",
    "        print('Some error in kernel: {}'.format(gift_count.max()))\n",
    "        exit()\n",
    "\n",
    "    print('Start score calculation...')\n",
    "    # score = avg_normalized_happiness(answ, gift_init, wish)\n",
    "    # print('Predicted score: {:.8f}'.format(score))\n",
    "    score = avg_normalized_happiness(answ, gift, wish)\n",
    "    print('Predicted score: {:.8f}'.format(score))\n",
    "\n",
    "    out = open('subm_{}.csv'.format(score), 'w') # \n",
    "    out.write('ChildId,GiftId\\n')\n",
    "    for i in range(len(answ)):\n",
    "        out.write(str(i) + ',' + str(answ[i]) + '\\n')\n",
    "    out.close()\n",
    "\n",
    "\n",
    "if __name__ == '__main__':\n",
    "    solve()"
   ]
  },
  {
   "cell_type": "code",
   "execution_count": null,
   "metadata": {},
   "outputs": [],
   "source": [
    "answ"
   ]
  },
  {
   "cell_type": "markdown",
   "metadata": {},
   "source": [
    "### pandas.DataFrame.as_matrix()\n",
    "\n",
    "* 데이터프레임을 numpy 배열 표현으로 변환하여 반환\n",
    "* numpy 배열로 변환하지만 인덱스는 그대로 유지"
   ]
  },
  {
   "cell_type": "code",
   "execution_count": null,
   "metadata": {},
   "outputs": [],
   "source": [
    "#pandas.DataFrame.as_matrix() 예시\n",
    "index = [1, 2, 3, 4, 5, 6, 7]\n",
    "a1 = [np.nan, np.nan, np.nan, 0.1, 0.1, 0.1, 0.1]\n",
    "b1 = [0.2, np.nan, 0.2, 0.2, 0.2, np.nan, np.nan]\n",
    "c1 = [np.nan, 0.5, 0.5, np.nan, 0.5, 0.5, np.nan]\n",
    "df = pd.DataFrame({'A': a1, 'B': b1, 'C': c1}, index=index)\n",
    "df = df.rename_axis('ID')"
   ]
  },
  {
   "cell_type": "code",
   "execution_count": null,
   "metadata": {},
   "outputs": [],
   "source": [
    "df"
   ]
  },
  {
   "cell_type": "code",
   "execution_count": null,
   "metadata": {},
   "outputs": [],
   "source": [
    "numpy_matrix=df.as_matrix()\n",
    "numpy_matrix"
   ]
  },
  {
   "cell_type": "markdown",
   "metadata": {},
   "source": [
    "### numpy.argmin()\n",
    "\n",
    "axis에 따른 최소 인덱스를 반환\n",
    "* (a, axis=None, out=None)\n",
    "* 최소값이 여러 번 나오는 경우 첫 번째 발생에 해당하는 인덱스 반환"
   ]
  },
  {
   "cell_type": "code",
   "execution_count": null,
   "metadata": {},
   "outputs": [],
   "source": [
    "a = np . arange ( 6 ) . reshape ( 2 , 3 )\n",
    "a"
   ]
  },
  {
   "cell_type": "code",
   "execution_count": null,
   "metadata": {},
   "outputs": [],
   "source": [
    "np.argmin(a)"
   ]
  },
  {
   "cell_type": "code",
   "execution_count": null,
   "metadata": {},
   "outputs": [],
   "source": [
    "np.argmin(a,axis = 0)"
   ]
  },
  {
   "cell_type": "code",
   "execution_count": null,
   "metadata": {},
   "outputs": [],
   "source": [
    "np.argmin(a,axis = 1)"
   ]
  },
  {
   "cell_type": "markdown",
   "metadata": {},
   "source": [
    "### 파일 생성하기"
   ]
  },
  {
   "cell_type": "markdown",
   "metadata": {},
   "source": [
    "f = open(\"새파일.txt\", 'w')\n",
    "\n",
    "f.close()\n",
    "\n",
    "파일을 생성하기 위해 open이라는 파이썬 내장 함수 사용. open 함수는 다음과 같이 \"파일 이름\"과 \"파일 열기 모드\"를 입력값으로 받고 결과값으로 파일 객체를 반환\n",
    "\n",
    "파일 객체 = open(파일 이름, 파일 열기 모드)\n",
    "\n",
    "파일열기모드\n",
    "* r\t읽기모드 - 파일을 읽기만 할 때 사용\n",
    "* w\t쓰기모드 - 파일에 내용을 쓸 때 사용\n",
    "* a\t추가모드 - 파일의 마지막에 새로운 내용을 추가 시킬 때 사용"
   ]
  },
  {
   "cell_type": "code",
   "execution_count": null,
   "metadata": {},
   "outputs": [],
   "source": [
    "#파일을 쓰기 모드로 열게 되면 해당 파일이 이미 존재할 경우 원래 있던 내용이 모두 사라지고, 해당 파일이 존재하지 않으면 새로운 파일이 생성된다."
   ]
  }
 ],
 "metadata": {
  "kernelspec": {
   "display_name": "Python 3",
   "language": "python",
   "name": "python3"
  },
  "language_info": {
   "codemirror_mode": {
    "name": "ipython",
    "version": 3
   },
   "file_extension": ".py",
   "mimetype": "text/x-python",
   "name": "python",
   "nbconvert_exporter": "python",
   "pygments_lexer": "ipython3",
   "version": "3.6.4"
  }
 },
 "nbformat": 4,
 "nbformat_minor": 2
}
